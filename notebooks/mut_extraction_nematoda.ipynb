{
 "cells": [
  {
   "cell_type": "markdown",
   "metadata": {},
   "source": [
    "Мне ещё кое-что нужно - аннотация позиций генов.\n",
    "\n",
    "Задачу нужно делать по выравниванию и для каждой последовательности индивидуально. Мне не важна позиция каждого нуклеотида в последовательности, важна позиция в кодоне. \n",
    "В итоге, для каждой веточки пробегается по кодонам, которые были изменены (нужна фиктивная колонка с индексами, чтобы легко выделять позицию в кодоне), собираем информацию о том, что это за мутация (0,1,2 это все, син и фф соотв., так будет легко фильтровать),пишем все в табличку. Отдельно нужно сохранять частоты триплетов и нуклеотидов для каждой родительской ноды."
   ]
  },
  {
   "cell_type": "code",
   "execution_count": 1,
   "metadata": {},
   "outputs": [],
   "source": [
    "import re\n",
    "from queue import Queue\n",
    "from typing import Iterable\n",
    "from collections import defaultdict\n",
    "\n",
    "import numpy as np\n",
    "import pandas as pd\n",
    "import matplotlib.pyplot as plt\n",
    "import seaborn as sns\n",
    "import ete3\n",
    "from ete3 import PhyloTree\n",
    "from scipy.stats import entropy\n",
    "from scipy import spatial\n",
    "\n",
    "from Bio.Data import CodonTable\n",
    "\n",
    "import warnings\n",
    "warnings.filterwarnings(\"ignore\")"
   ]
  },
  {
   "cell_type": "code",
   "execution_count": 2,
   "metadata": {},
   "outputs": [],
   "source": [
    "path_to_tree = \"../data/example_nematoda/anc.treefile\"\n",
    "path_to_states = \"../data/example_nematoda/genes_states.tsv\"\n",
    "path_to_leaves = \"../data/example_nematoda/leaves_states_nematoda.tsv\""
   ]
  },
  {
   "cell_type": "code",
   "execution_count": 3,
   "metadata": {},
   "outputs": [],
   "source": [
    "tree = tree = PhyloTree(path_to_tree, format=1)"
   ]
  },
  {
   "cell_type": "code",
   "execution_count": 4,
   "metadata": {},
   "outputs": [
    {
     "name": "stdout",
     "output_type": "stream",
     "text": [
      "Number of leaf nodes:\t144\n",
      "Total number of nodes:\t286\n",
      "Rooted:\tNo\n",
      "Most distant node:\tMeloidogyne_javanica\n",
      "Max. distance:\t5.446504\n"
     ]
    }
   ],
   "source": [
    "tree.describe()"
   ]
  },
  {
   "cell_type": "code",
   "execution_count": 5,
   "metadata": {},
   "outputs": [],
   "source": [
    "# print(tree.get_ascii())\n",
    "# tree.show()"
   ]
  },
  {
   "cell_type": "code",
   "execution_count": 6,
   "metadata": {},
   "outputs": [
    {
     "name": "stdout",
     "output_type": "stream",
     "text": [
      "(3616470, 8)\n"
     ]
    },
    {
     "data": {
      "text/html": [
       "<div>\n",
       "<style scoped>\n",
       "    .dataframe tbody tr th:only-of-type {\n",
       "        vertical-align: middle;\n",
       "    }\n",
       "\n",
       "    .dataframe tbody tr th {\n",
       "        vertical-align: top;\n",
       "    }\n",
       "\n",
       "    .dataframe thead th {\n",
       "        text-align: right;\n",
       "    }\n",
       "</style>\n",
       "<table border=\"1\" class=\"dataframe\">\n",
       "  <thead>\n",
       "    <tr style=\"text-align: right;\">\n",
       "      <th></th>\n",
       "      <th>Node</th>\n",
       "      <th>Part</th>\n",
       "      <th>Site</th>\n",
       "      <th>State</th>\n",
       "      <th>p_A</th>\n",
       "      <th>p_C</th>\n",
       "      <th>p_G</th>\n",
       "      <th>p_T</th>\n",
       "    </tr>\n",
       "  </thead>\n",
       "  <tbody>\n",
       "    <tr>\n",
       "      <th>13068</th>\n",
       "      <td>Acanthocheilonema_viteae</td>\n",
       "      <td>1</td>\n",
       "      <td>1</td>\n",
       "      <td>-</td>\n",
       "      <td>0.0</td>\n",
       "      <td>0.0</td>\n",
       "      <td>0.0</td>\n",
       "      <td>0.0</td>\n",
       "    </tr>\n",
       "    <tr>\n",
       "      <th>13069</th>\n",
       "      <td>Acanthocheilonema_viteae</td>\n",
       "      <td>1</td>\n",
       "      <td>2</td>\n",
       "      <td>-</td>\n",
       "      <td>0.0</td>\n",
       "      <td>0.0</td>\n",
       "      <td>0.0</td>\n",
       "      <td>0.0</td>\n",
       "    </tr>\n",
       "    <tr>\n",
       "      <th>13070</th>\n",
       "      <td>Acanthocheilonema_viteae</td>\n",
       "      <td>1</td>\n",
       "      <td>3</td>\n",
       "      <td>-</td>\n",
       "      <td>0.0</td>\n",
       "      <td>0.0</td>\n",
       "      <td>0.0</td>\n",
       "      <td>0.0</td>\n",
       "    </tr>\n",
       "    <tr>\n",
       "      <th>13071</th>\n",
       "      <td>Acanthocheilonema_viteae</td>\n",
       "      <td>1</td>\n",
       "      <td>4</td>\n",
       "      <td>A</td>\n",
       "      <td>1.0</td>\n",
       "      <td>0.0</td>\n",
       "      <td>0.0</td>\n",
       "      <td>0.0</td>\n",
       "    </tr>\n",
       "    <tr>\n",
       "      <th>13072</th>\n",
       "      <td>Acanthocheilonema_viteae</td>\n",
       "      <td>1</td>\n",
       "      <td>5</td>\n",
       "      <td>T</td>\n",
       "      <td>0.0</td>\n",
       "      <td>0.0</td>\n",
       "      <td>0.0</td>\n",
       "      <td>1.0</td>\n",
       "    </tr>\n",
       "  </tbody>\n",
       "</table>\n",
       "</div>"
      ],
      "text/plain": [
       "                           Node  Part  Site State  p_A  p_C  p_G  p_T\n",
       "13068  Acanthocheilonema_viteae     1     1     -  0.0  0.0  0.0  0.0\n",
       "13069  Acanthocheilonema_viteae     1     2     -  0.0  0.0  0.0  0.0\n",
       "13070  Acanthocheilonema_viteae     1     3     -  0.0  0.0  0.0  0.0\n",
       "13071  Acanthocheilonema_viteae     1     4     A  1.0  0.0  0.0  0.0\n",
       "13072  Acanthocheilonema_viteae     1     5     T  0.0  0.0  0.0  1.0"
      ]
     },
     "execution_count": 6,
     "metadata": {},
     "output_type": "execute_result"
    }
   ],
   "source": [
    "anc = pd.read_csv(path_to_states, sep=\"\\t\", comment='#',)\n",
    "leaves = pd.read_csv(path_to_leaves, sep=\"\\t\")\n",
    "\n",
    "states = pd.concat([anc, leaves]).sort_values([\"Node\", \"Part\", \"Site\"])\n",
    "print(states.shape)\n",
    "states.head()"
   ]
  },
  {
   "cell_type": "code",
   "execution_count": 7,
   "metadata": {},
   "outputs": [
    {
     "data": {
      "text/html": [
       "<div>\n",
       "<style scoped>\n",
       "    .dataframe tbody tr th:only-of-type {\n",
       "        vertical-align: middle;\n",
       "    }\n",
       "\n",
       "    .dataframe tbody tr th {\n",
       "        vertical-align: top;\n",
       "    }\n",
       "\n",
       "    .dataframe thead th {\n",
       "        text-align: right;\n",
       "    }\n",
       "</style>\n",
       "<table border=\"1\" class=\"dataframe\">\n",
       "  <thead>\n",
       "    <tr style=\"text-align: right;\">\n",
       "      <th></th>\n",
       "      <th>Node</th>\n",
       "      <th>Part</th>\n",
       "      <th>Site</th>\n",
       "      <th>State</th>\n",
       "      <th>p_A</th>\n",
       "      <th>p_C</th>\n",
       "      <th>p_G</th>\n",
       "      <th>p_T</th>\n",
       "    </tr>\n",
       "  </thead>\n",
       "  <tbody>\n",
       "    <tr>\n",
       "      <th>1239210</th>\n",
       "      <td>Node6</td>\n",
       "      <td>1</td>\n",
       "      <td>1</td>\n",
       "      <td>A</td>\n",
       "      <td>0.60248</td>\n",
       "      <td>0.03162</td>\n",
       "      <td>0.16067</td>\n",
       "      <td>0.20522</td>\n",
       "    </tr>\n",
       "    <tr>\n",
       "      <th>1239211</th>\n",
       "      <td>Node6</td>\n",
       "      <td>1</td>\n",
       "      <td>2</td>\n",
       "      <td>T</td>\n",
       "      <td>0.09477</td>\n",
       "      <td>0.06599</td>\n",
       "      <td>0.07400</td>\n",
       "      <td>0.76524</td>\n",
       "    </tr>\n",
       "    <tr>\n",
       "      <th>1239212</th>\n",
       "      <td>Node6</td>\n",
       "      <td>1</td>\n",
       "      <td>3</td>\n",
       "      <td>A</td>\n",
       "      <td>0.60248</td>\n",
       "      <td>0.03162</td>\n",
       "      <td>0.16067</td>\n",
       "      <td>0.20522</td>\n",
       "    </tr>\n",
       "    <tr>\n",
       "      <th>1239213</th>\n",
       "      <td>Node6</td>\n",
       "      <td>1</td>\n",
       "      <td>4</td>\n",
       "      <td>T</td>\n",
       "      <td>0.09391</td>\n",
       "      <td>0.00835</td>\n",
       "      <td>0.00776</td>\n",
       "      <td>0.88998</td>\n",
       "    </tr>\n",
       "    <tr>\n",
       "      <th>1239214</th>\n",
       "      <td>Node6</td>\n",
       "      <td>1</td>\n",
       "      <td>5</td>\n",
       "      <td>T</td>\n",
       "      <td>0.00043</td>\n",
       "      <td>0.00255</td>\n",
       "      <td>0.00034</td>\n",
       "      <td>0.99668</td>\n",
       "    </tr>\n",
       "    <tr>\n",
       "      <th>...</th>\n",
       "      <td>...</td>\n",
       "      <td>...</td>\n",
       "      <td>...</td>\n",
       "      <td>...</td>\n",
       "      <td>...</td>\n",
       "      <td>...</td>\n",
       "      <td>...</td>\n",
       "      <td>...</td>\n",
       "    </tr>\n",
       "    <tr>\n",
       "      <th>1251850</th>\n",
       "      <td>Node6</td>\n",
       "      <td>12</td>\n",
       "      <td>683</td>\n",
       "      <td>G</td>\n",
       "      <td>0.22399</td>\n",
       "      <td>0.03617</td>\n",
       "      <td>0.50514</td>\n",
       "      <td>0.23470</td>\n",
       "    </tr>\n",
       "    <tr>\n",
       "      <th>1251851</th>\n",
       "      <td>Node6</td>\n",
       "      <td>12</td>\n",
       "      <td>684</td>\n",
       "      <td>T</td>\n",
       "      <td>0.10839</td>\n",
       "      <td>0.07148</td>\n",
       "      <td>0.08464</td>\n",
       "      <td>0.73549</td>\n",
       "    </tr>\n",
       "    <tr>\n",
       "      <th>1251852</th>\n",
       "      <td>Node6</td>\n",
       "      <td>12</td>\n",
       "      <td>685</td>\n",
       "      <td>T</td>\n",
       "      <td>0.10839</td>\n",
       "      <td>0.07148</td>\n",
       "      <td>0.08464</td>\n",
       "      <td>0.73549</td>\n",
       "    </tr>\n",
       "    <tr>\n",
       "      <th>1251853</th>\n",
       "      <td>Node6</td>\n",
       "      <td>12</td>\n",
       "      <td>686</td>\n",
       "      <td>T</td>\n",
       "      <td>0.10839</td>\n",
       "      <td>0.07148</td>\n",
       "      <td>0.08464</td>\n",
       "      <td>0.73549</td>\n",
       "    </tr>\n",
       "    <tr>\n",
       "      <th>1251854</th>\n",
       "      <td>Node6</td>\n",
       "      <td>12</td>\n",
       "      <td>687</td>\n",
       "      <td>T</td>\n",
       "      <td>0.10839</td>\n",
       "      <td>0.07148</td>\n",
       "      <td>0.08464</td>\n",
       "      <td>0.73549</td>\n",
       "    </tr>\n",
       "  </tbody>\n",
       "</table>\n",
       "<p>12645 rows × 8 columns</p>\n",
       "</div>"
      ],
      "text/plain": [
       "          Node  Part  Site State      p_A      p_C      p_G      p_T\n",
       "1239210  Node6     1     1     A  0.60248  0.03162  0.16067  0.20522\n",
       "1239211  Node6     1     2     T  0.09477  0.06599  0.07400  0.76524\n",
       "1239212  Node6     1     3     A  0.60248  0.03162  0.16067  0.20522\n",
       "1239213  Node6     1     4     T  0.09391  0.00835  0.00776  0.88998\n",
       "1239214  Node6     1     5     T  0.00043  0.00255  0.00034  0.99668\n",
       "...        ...   ...   ...   ...      ...      ...      ...      ...\n",
       "1251850  Node6    12   683     G  0.22399  0.03617  0.50514  0.23470\n",
       "1251851  Node6    12   684     T  0.10839  0.07148  0.08464  0.73549\n",
       "1251852  Node6    12   685     T  0.10839  0.07148  0.08464  0.73549\n",
       "1251853  Node6    12   686     T  0.10839  0.07148  0.08464  0.73549\n",
       "1251854  Node6    12   687     T  0.10839  0.07148  0.08464  0.73549\n",
       "\n",
       "[12645 rows x 8 columns]"
      ]
     },
     "execution_count": 7,
     "metadata": {},
     "output_type": "execute_result"
    }
   ],
   "source": [
    "anc[anc.Node == \"Node6\"]"
   ]
  },
  {
   "cell_type": "code",
   "execution_count": 30,
   "metadata": {},
   "outputs": [
    {
     "data": {
      "image/png": "[encoded data removed]",
      "text/plain": [
       "<Figure size 432x288 with 1 Axes>"
      ]
     },
     "metadata": {
      "needs_background": "light"
     },
     "output_type": "display_data"
    }
   ],
   "source": [
    "anc.p_A.hist(alpha=.3, label=\"A\")\n",
    "anc.p_C.hist(alpha=.3, label=\"C\")\n",
    "anc.p_G.hist(alpha=.3, label=\"G\")\n",
    "anc.p_T.hist(alpha=.3, label=\"T\")\n",
    "plt.legend();"
   ]
  },
  {
   "cell_type": "markdown",
   "metadata": {},
   "source": [
    "## 10% of positions are uncertain"
   ]
  },
  {
   "cell_type": "code",
   "execution_count": 9,
   "metadata": {},
   "outputs": [
    {
     "data": {
      "text/plain": [
       "True     0.788926\n",
       "False    0.211074\n",
       "dtype: float64"
      ]
     },
     "execution_count": 9,
     "metadata": {},
     "output_type": "execute_result"
    }
   ],
   "source": [
    "np.any(anc[[\"p_A\", \"p_C\", \"p_G\", \"p_T\"]] > 0.8, 1).value_counts(normalize=True)"
   ]
  },
  {
   "cell_type": "code",
   "execution_count": 12,
   "metadata": {},
   "outputs": [
    {
     "data": {
      "image/png": "[encoded data removed]",
      "text/plain": [
       "<Figure size 432x288 with 1 Axes>"
      ]
     },
     "metadata": {
      "needs_background": "light"
     },
     "output_type": "display_data"
    }
   ],
   "source": [
    "mentr = entropy(anc[[\"p_A\", \"p_C\", \"p_G\", \"p_T\"]], axis=1)\n",
    "plt.hist(mentr, bins=50)\n",
    "plt.title(\"Entropy\");"
   ]
  },
  {
   "cell_type": "code",
   "execution_count": 13,
   "metadata": {},
   "outputs": [
    {
     "data": {
      "text/plain": [
       "<AxesSubplot:>"
      ]
     },
     "execution_count": 13,
     "metadata": {},
     "output_type": "execute_result"
    },
    {
     "data": {
      "image/png": "[encoded data removed]",
      "text/plain": [
       "<Figure size 432x288 with 1 Axes>"
      ]
     },
     "metadata": {
      "needs_background": "light"
     },
     "output_type": "display_data"
    }
   ],
   "source": [
    "anc.State.value_counts().plot.bar()"
   ]
  },
  {
   "cell_type": "code",
   "execution_count": null,
   "metadata": {},
   "outputs": [],
   "source": []
  },
  {
   "cell_type": "markdown",
   "metadata": {},
   "source": [
    "## MUTSPEC"
   ]
  },
  {
   "cell_type": "code",
   "execution_count": 48,
   "metadata": {},
   "outputs": [],
   "source": [
    "date = \"20-05-22-17-46-49\"\n",
    "mutations    = pd.read_csv(f\"../data/processed/nematoda/{date}/mutations.csv\", sep=\"\\t\")\n",
    "edge_mutspec = pd.read_csv(f\"../data/processed/nematoda/{date}/mutspec12.csv\", sep=\"\\t\")\n",
    "edge_mutspec_all = edge_mutspec[edge_mutspec.Label == \"all\"]\n",
    "edge_mutspec_syn = edge_mutspec[edge_mutspec.Label == \"syn\"]\n",
    "edge_mutspec_ff  = edge_mutspec[edge_mutspec.Label == \"ff\"]"
   ]
  },
  {
   "cell_type": "code",
   "execution_count": 49,
   "metadata": {},
   "outputs": [],
   "source": [
    "mutations.loc[(mutations.Label < 0) & (mutations.RefAa == \"*\"), \"Label\"] = -2"
   ]
  },
  {
   "cell_type": "code",
   "execution_count": 50,
   "metadata": {},
   "outputs": [
    {
     "data": {
      "text/html": [
       "<div>\n",
       "<style scoped>\n",
       "    .dataframe tbody tr th:only-of-type {\n",
       "        vertical-align: middle;\n",
       "    }\n",
       "\n",
       "    .dataframe tbody tr th {\n",
       "        vertical-align: top;\n",
       "    }\n",
       "\n",
       "    .dataframe thead th {\n",
       "        text-align: right;\n",
       "    }\n",
       "</style>\n",
       "<table border=\"1\" class=\"dataframe\">\n",
       "  <thead>\n",
       "    <tr style=\"text-align: right;\">\n",
       "      <th></th>\n",
       "      <th>Mut</th>\n",
       "      <th>Label</th>\n",
       "      <th>PosInGene</th>\n",
       "      <th>PosInCodon</th>\n",
       "      <th>RefCodon</th>\n",
       "      <th>AltCodon</th>\n",
       "      <th>RefAa</th>\n",
       "      <th>AltAa</th>\n",
       "      <th>RefNode</th>\n",
       "      <th>AltNode</th>\n",
       "      <th>Gene</th>\n",
       "    </tr>\n",
       "  </thead>\n",
       "  <tbody>\n",
       "    <tr>\n",
       "      <th>0</th>\n",
       "      <td>T[T&gt;A]T</td>\n",
       "      <td>0</td>\n",
       "      <td>73</td>\n",
       "      <td>1</td>\n",
       "      <td>TTT</td>\n",
       "      <td>ATT</td>\n",
       "      <td>F</td>\n",
       "      <td>I</td>\n",
       "      <td>Node1</td>\n",
       "      <td>Philometroides_sanguineus</td>\n",
       "      <td>1</td>\n",
       "    </tr>\n",
       "    <tr>\n",
       "      <th>1</th>\n",
       "      <td>T[T&gt;G]A</td>\n",
       "      <td>0</td>\n",
       "      <td>78</td>\n",
       "      <td>3</td>\n",
       "      <td>TTT</td>\n",
       "      <td>TTG</td>\n",
       "      <td>F</td>\n",
       "      <td>L</td>\n",
       "      <td>Node1</td>\n",
       "      <td>Philometroides_sanguineus</td>\n",
       "      <td>1</td>\n",
       "    </tr>\n",
       "    <tr>\n",
       "      <th>2</th>\n",
       "      <td>G[T&gt;G]G</td>\n",
       "      <td>2</td>\n",
       "      <td>156</td>\n",
       "      <td>3</td>\n",
       "      <td>AGT</td>\n",
       "      <td>AGG</td>\n",
       "      <td>S</td>\n",
       "      <td>S</td>\n",
       "      <td>Node1</td>\n",
       "      <td>Philometroides_sanguineus</td>\n",
       "      <td>1</td>\n",
       "    </tr>\n",
       "    <tr>\n",
       "      <th>3</th>\n",
       "      <td>A[G&gt;A]T</td>\n",
       "      <td>0</td>\n",
       "      <td>164</td>\n",
       "      <td>2</td>\n",
       "      <td>AGT</td>\n",
       "      <td>AAT</td>\n",
       "      <td>S</td>\n",
       "      <td>N</td>\n",
       "      <td>Node1</td>\n",
       "      <td>Philometroides_sanguineus</td>\n",
       "      <td>1</td>\n",
       "    </tr>\n",
       "    <tr>\n",
       "      <th>4</th>\n",
       "      <td>T[G&gt;A]G</td>\n",
       "      <td>0</td>\n",
       "      <td>166</td>\n",
       "      <td>1</td>\n",
       "      <td>GGT</td>\n",
       "      <td>AGT</td>\n",
       "      <td>G</td>\n",
       "      <td>S</td>\n",
       "      <td>Node1</td>\n",
       "      <td>Philometroides_sanguineus</td>\n",
       "      <td>1</td>\n",
       "    </tr>\n",
       "    <tr>\n",
       "      <th>...</th>\n",
       "      <td>...</td>\n",
       "      <td>...</td>\n",
       "      <td>...</td>\n",
       "      <td>...</td>\n",
       "      <td>...</td>\n",
       "      <td>...</td>\n",
       "      <td>...</td>\n",
       "      <td>...</td>\n",
       "      <td>...</td>\n",
       "      <td>...</td>\n",
       "      <td>...</td>\n",
       "    </tr>\n",
       "    <tr>\n",
       "      <th>103651</th>\n",
       "      <td>T[A&gt;G]A</td>\n",
       "      <td>1</td>\n",
       "      <td>231</td>\n",
       "      <td>3</td>\n",
       "      <td>TTA</td>\n",
       "      <td>TTG</td>\n",
       "      <td>L</td>\n",
       "      <td>L</td>\n",
       "      <td>Node94</td>\n",
       "      <td>Cylicocyclus_ashworthi</td>\n",
       "      <td>12</td>\n",
       "    </tr>\n",
       "    <tr>\n",
       "      <th>103652</th>\n",
       "      <td>G[G&gt;A]G</td>\n",
       "      <td>2</td>\n",
       "      <td>234</td>\n",
       "      <td>3</td>\n",
       "      <td>AGG</td>\n",
       "      <td>AGA</td>\n",
       "      <td>S</td>\n",
       "      <td>S</td>\n",
       "      <td>Node94</td>\n",
       "      <td>Cylicocyclus_ashworthi</td>\n",
       "      <td>12</td>\n",
       "    </tr>\n",
       "    <tr>\n",
       "      <th>103653</th>\n",
       "      <td>G[G&gt;T]A</td>\n",
       "      <td>2</td>\n",
       "      <td>237</td>\n",
       "      <td>3</td>\n",
       "      <td>GGG</td>\n",
       "      <td>GGT</td>\n",
       "      <td>G</td>\n",
       "      <td>G</td>\n",
       "      <td>Node94</td>\n",
       "      <td>Cylicocyclus_ashworthi</td>\n",
       "      <td>12</td>\n",
       "    </tr>\n",
       "    <tr>\n",
       "      <th>103654</th>\n",
       "      <td>T[A&gt;G]A</td>\n",
       "      <td>2</td>\n",
       "      <td>246</td>\n",
       "      <td>3</td>\n",
       "      <td>GTA</td>\n",
       "      <td>GTG</td>\n",
       "      <td>V</td>\n",
       "      <td>V</td>\n",
       "      <td>Node94</td>\n",
       "      <td>Cylicocyclus_ashworthi</td>\n",
       "      <td>12</td>\n",
       "    </tr>\n",
       "    <tr>\n",
       "      <th>103655</th>\n",
       "      <td>T[G&gt;A]T</td>\n",
       "      <td>2</td>\n",
       "      <td>510</td>\n",
       "      <td>3</td>\n",
       "      <td>GTG</td>\n",
       "      <td>GTA</td>\n",
       "      <td>V</td>\n",
       "      <td>V</td>\n",
       "      <td>Node94</td>\n",
       "      <td>Cylicocyclus_ashworthi</td>\n",
       "      <td>12</td>\n",
       "    </tr>\n",
       "  </tbody>\n",
       "</table>\n",
       "<p>103656 rows × 11 columns</p>\n",
       "</div>"
      ],
      "text/plain": [
       "            Mut  Label  PosInGene  PosInCodon RefCodon AltCodon RefAa AltAa  \\\n",
       "0       T[T>A]T      0         73           1      TTT      ATT     F     I   \n",
       "1       T[T>G]A      0         78           3      TTT      TTG     F     L   \n",
       "2       G[T>G]G      2        156           3      AGT      AGG     S     S   \n",
       "3       A[G>A]T      0        164           2      AGT      AAT     S     N   \n",
       "4       T[G>A]G      0        166           1      GGT      AGT     G     S   \n",
       "...         ...    ...        ...         ...      ...      ...   ...   ...   \n",
       "103651  T[A>G]A      1        231           3      TTA      TTG     L     L   \n",
       "103652  G[G>A]G      2        234           3      AGG      AGA     S     S   \n",
       "103653  G[G>T]A      2        237           3      GGG      GGT     G     G   \n",
       "103654  T[A>G]A      2        246           3      GTA      GTG     V     V   \n",
       "103655  T[G>A]T      2        510           3      GTG      GTA     V     V   \n",
       "\n",
       "       RefNode                    AltNode  Gene  \n",
       "0        Node1  Philometroides_sanguineus     1  \n",
       "1        Node1  Philometroides_sanguineus     1  \n",
       "2        Node1  Philometroides_sanguineus     1  \n",
       "3        Node1  Philometroides_sanguineus     1  \n",
       "4        Node1  Philometroides_sanguineus     1  \n",
       "...        ...                        ...   ...  \n",
       "103651  Node94     Cylicocyclus_ashworthi    12  \n",
       "103652  Node94     Cylicocyclus_ashworthi    12  \n",
       "103653  Node94     Cylicocyclus_ashworthi    12  \n",
       "103654  Node94     Cylicocyclus_ashworthi    12  \n",
       "103655  Node94     Cylicocyclus_ashworthi    12  \n",
       "\n",
       "[103656 rows x 11 columns]"
      ]
     },
     "execution_count": 50,
     "metadata": {},
     "output_type": "execute_result"
    }
   ],
   "source": [
    "mutations"
   ]
  },
  {
   "cell_type": "code",
   "execution_count": 51,
   "metadata": {},
   "outputs": [
    {
     "data": {
      "text/html": [
       "<div>\n",
       "<style scoped>\n",
       "    .dataframe tbody tr th:only-of-type {\n",
       "        vertical-align: middle;\n",
       "    }\n",
       "\n",
       "    .dataframe tbody tr th {\n",
       "        vertical-align: top;\n",
       "    }\n",
       "\n",
       "    .dataframe thead th {\n",
       "        text-align: right;\n",
       "    }\n",
       "</style>\n",
       "<table border=\"1\" class=\"dataframe\">\n",
       "  <thead>\n",
       "    <tr style=\"text-align: right;\">\n",
       "      <th></th>\n",
       "      <th>Mut</th>\n",
       "      <th>Label</th>\n",
       "      <th>PosInGene</th>\n",
       "      <th>PosInCodon</th>\n",
       "      <th>RefCodon</th>\n",
       "      <th>AltCodon</th>\n",
       "      <th>RefAa</th>\n",
       "      <th>AltAa</th>\n",
       "      <th>RefNode</th>\n",
       "      <th>AltNode</th>\n",
       "      <th>Gene</th>\n",
       "    </tr>\n",
       "  </thead>\n",
       "  <tbody>\n",
       "    <tr>\n",
       "      <th>721</th>\n",
       "      <td>T[A&gt;G]A</td>\n",
       "      <td>-2</td>\n",
       "      <td>1562</td>\n",
       "      <td>2</td>\n",
       "      <td>TAA</td>\n",
       "      <td>TGA</td>\n",
       "      <td>*</td>\n",
       "      <td>W</td>\n",
       "      <td>Node1</td>\n",
       "      <td>Philometroides_sanguineus</td>\n",
       "      <td>11</td>\n",
       "    </tr>\n",
       "    <tr>\n",
       "      <th>781</th>\n",
       "      <td>T[A&gt;T]A</td>\n",
       "      <td>-2</td>\n",
       "      <td>347</td>\n",
       "      <td>2</td>\n",
       "      <td>TAA</td>\n",
       "      <td>TTA</td>\n",
       "      <td>*</td>\n",
       "      <td>L</td>\n",
       "      <td>Node1</td>\n",
       "      <td>Dracunculus_medinensis</td>\n",
       "      <td>1</td>\n",
       "    </tr>\n",
       "    <tr>\n",
       "      <th>1544</th>\n",
       "      <td>A[T&gt;G]T</td>\n",
       "      <td>-1</td>\n",
       "      <td>363</td>\n",
       "      <td>3</td>\n",
       "      <td>TAT</td>\n",
       "      <td>TAG</td>\n",
       "      <td>Y</td>\n",
       "      <td>*</td>\n",
       "      <td>Node1</td>\n",
       "      <td>Node2</td>\n",
       "      <td>6</td>\n",
       "    </tr>\n",
       "    <tr>\n",
       "      <th>1620</th>\n",
       "      <td>T[G&gt;T]A</td>\n",
       "      <td>-1</td>\n",
       "      <td>136</td>\n",
       "      <td>1</td>\n",
       "      <td>GAA</td>\n",
       "      <td>TAA</td>\n",
       "      <td>E</td>\n",
       "      <td>*</td>\n",
       "      <td>Node1</td>\n",
       "      <td>Node2</td>\n",
       "      <td>8</td>\n",
       "    </tr>\n",
       "    <tr>\n",
       "      <th>1728</th>\n",
       "      <td>T[A&gt;T]G</td>\n",
       "      <td>-2</td>\n",
       "      <td>1601</td>\n",
       "      <td>2</td>\n",
       "      <td>TAG</td>\n",
       "      <td>TTG</td>\n",
       "      <td>*</td>\n",
       "      <td>L</td>\n",
       "      <td>Node1</td>\n",
       "      <td>Node2</td>\n",
       "      <td>11</td>\n",
       "    </tr>\n",
       "    <tr>\n",
       "      <th>...</th>\n",
       "      <td>...</td>\n",
       "      <td>...</td>\n",
       "      <td>...</td>\n",
       "      <td>...</td>\n",
       "      <td>...</td>\n",
       "      <td>...</td>\n",
       "      <td>...</td>\n",
       "      <td>...</td>\n",
       "      <td>...</td>\n",
       "      <td>...</td>\n",
       "      <td>...</td>\n",
       "    </tr>\n",
       "    <tr>\n",
       "      <th>66374</th>\n",
       "      <td>A[T&gt;A]T</td>\n",
       "      <td>-1</td>\n",
       "      <td>72</td>\n",
       "      <td>3</td>\n",
       "      <td>TAT</td>\n",
       "      <td>TAA</td>\n",
       "      <td>Y</td>\n",
       "      <td>*</td>\n",
       "      <td>Node82</td>\n",
       "      <td>Node97</td>\n",
       "      <td>9</td>\n",
       "    </tr>\n",
       "    <tr>\n",
       "      <th>68436</th>\n",
       "      <td>A[T&gt;A]A</td>\n",
       "      <td>-1</td>\n",
       "      <td>825</td>\n",
       "      <td>3</td>\n",
       "      <td>TAT</td>\n",
       "      <td>TAA</td>\n",
       "      <td>Y</td>\n",
       "      <td>*</td>\n",
       "      <td>Node115</td>\n",
       "      <td>Node116</td>\n",
       "      <td>7</td>\n",
       "    </tr>\n",
       "    <tr>\n",
       "      <th>68462</th>\n",
       "      <td>A[A&gt;C]C</td>\n",
       "      <td>-2</td>\n",
       "      <td>63</td>\n",
       "      <td>3</td>\n",
       "      <td>TAA</td>\n",
       "      <td>TAC</td>\n",
       "      <td>*</td>\n",
       "      <td>Y</td>\n",
       "      <td>Node115</td>\n",
       "      <td>Node116</td>\n",
       "      <td>9</td>\n",
       "    </tr>\n",
       "    <tr>\n",
       "      <th>75425</th>\n",
       "      <td>T[A&gt;T]A</td>\n",
       "      <td>-2</td>\n",
       "      <td>71</td>\n",
       "      <td>2</td>\n",
       "      <td>TAA</td>\n",
       "      <td>TTA</td>\n",
       "      <td>*</td>\n",
       "      <td>L</td>\n",
       "      <td>Node97</td>\n",
       "      <td>Node98</td>\n",
       "      <td>9</td>\n",
       "    </tr>\n",
       "    <tr>\n",
       "      <th>84071</th>\n",
       "      <td>A[A&gt;T]T</td>\n",
       "      <td>-2</td>\n",
       "      <td>72</td>\n",
       "      <td>3</td>\n",
       "      <td>TAA</td>\n",
       "      <td>TAT</td>\n",
       "      <td>*</td>\n",
       "      <td>Y</td>\n",
       "      <td>Node103</td>\n",
       "      <td>Macropicola_ocydromi</td>\n",
       "      <td>9</td>\n",
       "    </tr>\n",
       "  </tbody>\n",
       "</table>\n",
       "<p>75 rows × 11 columns</p>\n",
       "</div>"
      ],
      "text/plain": [
       "           Mut  Label  PosInGene  PosInCodon RefCodon AltCodon RefAa AltAa  \\\n",
       "721    T[A>G]A     -2       1562           2      TAA      TGA     *     W   \n",
       "781    T[A>T]A     -2        347           2      TAA      TTA     *     L   \n",
       "1544   A[T>G]T     -1        363           3      TAT      TAG     Y     *   \n",
       "1620   T[G>T]A     -1        136           1      GAA      TAA     E     *   \n",
       "1728   T[A>T]G     -2       1601           2      TAG      TTG     *     L   \n",
       "...        ...    ...        ...         ...      ...      ...   ...   ...   \n",
       "66374  A[T>A]T     -1         72           3      TAT      TAA     Y     *   \n",
       "68436  A[T>A]A     -1        825           3      TAT      TAA     Y     *   \n",
       "68462  A[A>C]C     -2         63           3      TAA      TAC     *     Y   \n",
       "75425  T[A>T]A     -2         71           2      TAA      TTA     *     L   \n",
       "84071  A[A>T]T     -2         72           3      TAA      TAT     *     Y   \n",
       "\n",
       "       RefNode                    AltNode  Gene  \n",
       "721      Node1  Philometroides_sanguineus    11  \n",
       "781      Node1     Dracunculus_medinensis     1  \n",
       "1544     Node1                      Node2     6  \n",
       "1620     Node1                      Node2     8  \n",
       "1728     Node1                      Node2    11  \n",
       "...        ...                        ...   ...  \n",
       "66374   Node82                     Node97     9  \n",
       "68436  Node115                    Node116     7  \n",
       "68462  Node115                    Node116     9  \n",
       "75425   Node97                     Node98     9  \n",
       "84071  Node103       Macropicola_ocydromi     9  \n",
       "\n",
       "[75 rows x 11 columns]"
      ]
     },
     "execution_count": 51,
     "metadata": {},
     "output_type": "execute_result"
    }
   ],
   "source": [
    "nonsense_muts = mutations[\n",
    "    (mutations.Label < 0) & \n",
    "    (mutations.Mut.str.fullmatch(\"[ACGT]\\[[ACGT]>[ACGT]\\][ACGT]\"))\n",
    "]\n",
    "nonsense_muts"
   ]
  },
  {
   "cell_type": "code",
   "execution_count": 39,
   "metadata": {},
   "outputs": [
    {
     "data": {
      "text/html": [
       "<div>\n",
       "<style scoped>\n",
       "    .dataframe tbody tr th:only-of-type {\n",
       "        vertical-align: middle;\n",
       "    }\n",
       "\n",
       "    .dataframe tbody tr th {\n",
       "        vertical-align: top;\n",
       "    }\n",
       "\n",
       "    .dataframe thead th {\n",
       "        text-align: right;\n",
       "    }\n",
       "</style>\n",
       "<table border=\"1\" class=\"dataframe\">\n",
       "  <thead>\n",
       "    <tr style=\"text-align: right;\">\n",
       "      <th>Label</th>\n",
       "      <th>Stop loss</th>\n",
       "      <th>Stop gain</th>\n",
       "      <th>all</th>\n",
       "      <th>syn</th>\n",
       "      <th>syn4f</th>\n",
       "    </tr>\n",
       "    <tr>\n",
       "      <th>Gene</th>\n",
       "      <th></th>\n",
       "      <th></th>\n",
       "      <th></th>\n",
       "      <th></th>\n",
       "      <th></th>\n",
       "    </tr>\n",
       "  </thead>\n",
       "  <tbody>\n",
       "    <tr>\n",
       "      <th>ATP6</th>\n",
       "      <td>3</td>\n",
       "      <td>2</td>\n",
       "      <td>2094</td>\n",
       "      <td>1563</td>\n",
       "      <td>1665</td>\n",
       "    </tr>\n",
       "    <tr>\n",
       "      <th>ATP8</th>\n",
       "      <td>5</td>\n",
       "      <td>2</td>\n",
       "      <td>2302</td>\n",
       "      <td>4991</td>\n",
       "      <td>6467</td>\n",
       "    </tr>\n",
       "    <tr>\n",
       "      <th>COX1</th>\n",
       "      <td>0</td>\n",
       "      <td>0</td>\n",
       "      <td>1607</td>\n",
       "      <td>2334</td>\n",
       "      <td>2258</td>\n",
       "    </tr>\n",
       "    <tr>\n",
       "      <th>COX2</th>\n",
       "      <td>4</td>\n",
       "      <td>0</td>\n",
       "      <td>2033</td>\n",
       "      <td>2578</td>\n",
       "      <td>2910</td>\n",
       "    </tr>\n",
       "    <tr>\n",
       "      <th>COX3</th>\n",
       "      <td>4</td>\n",
       "      <td>2</td>\n",
       "      <td>3471</td>\n",
       "      <td>3665</td>\n",
       "      <td>3992</td>\n",
       "    </tr>\n",
       "    <tr>\n",
       "      <th>CYTB</th>\n",
       "      <td>4</td>\n",
       "      <td>2</td>\n",
       "      <td>2868</td>\n",
       "      <td>2956</td>\n",
       "      <td>3057</td>\n",
       "    </tr>\n",
       "    <tr>\n",
       "      <th>ND1</th>\n",
       "      <td>7</td>\n",
       "      <td>5</td>\n",
       "      <td>4364</td>\n",
       "      <td>2724</td>\n",
       "      <td>1907</td>\n",
       "    </tr>\n",
       "    <tr>\n",
       "      <th>ND2</th>\n",
       "      <td>0</td>\n",
       "      <td>1</td>\n",
       "      <td>1369</td>\n",
       "      <td>1088</td>\n",
       "      <td>866</td>\n",
       "    </tr>\n",
       "    <tr>\n",
       "      <th>ND3</th>\n",
       "      <td>9</td>\n",
       "      <td>3</td>\n",
       "      <td>4650</td>\n",
       "      <td>4066</td>\n",
       "      <td>4250</td>\n",
       "    </tr>\n",
       "    <tr>\n",
       "      <th>ND4</th>\n",
       "      <td>0</td>\n",
       "      <td>0</td>\n",
       "      <td>849</td>\n",
       "      <td>777</td>\n",
       "      <td>537</td>\n",
       "    </tr>\n",
       "    <tr>\n",
       "      <th>ND4L</th>\n",
       "      <td>13</td>\n",
       "      <td>6</td>\n",
       "      <td>6331</td>\n",
       "      <td>4837</td>\n",
       "      <td>4988</td>\n",
       "    </tr>\n",
       "    <tr>\n",
       "      <th>ND5</th>\n",
       "      <td>2</td>\n",
       "      <td>1</td>\n",
       "      <td>2103</td>\n",
       "      <td>1131</td>\n",
       "      <td>1168</td>\n",
       "    </tr>\n",
       "  </tbody>\n",
       "</table>\n",
       "</div>"
      ],
      "text/plain": [
       "Label  Stop loss  Stop gain   all   syn  syn4f\n",
       "Gene                                          \n",
       "ATP6           3          2  2094  1563   1665\n",
       "ATP8           5          2  2302  4991   6467\n",
       "COX1           0          0  1607  2334   2258\n",
       "COX2           4          0  2033  2578   2910\n",
       "COX3           4          2  3471  3665   3992\n",
       "CYTB           4          2  2868  2956   3057\n",
       "ND1            7          5  4364  2724   1907\n",
       "ND2            0          1  1369  1088    866\n",
       "ND3            9          3  4650  4066   4250\n",
       "ND4            0          0   849   777    537\n",
       "ND4L          13          6  6331  4837   4988\n",
       "ND5            2          1  2103  1131   1168"
      ]
     },
     "execution_count": 39,
     "metadata": {},
     "output_type": "execute_result"
    }
   ],
   "source": [
    "genes_order = \"ATP6 ATP8 COX1 COX2 COX3 CYTB ND1 ND2 ND3 ND4 ND4L ND5\".split()\n",
    "\n",
    "_mutations_description = mutations[\n",
    "    (mutations.Mut.str.fullmatch(\"[ACGT]\\[[ACGT]>[ACGT]\\][ACGT]\"))\n",
    "].groupby([\"Label\", \"Gene\"]).Mut.count().reset_index()\n",
    "_mutations_description[\"Label\"] = _mutations_description.Label.map(\n",
    "    {-2: \"Stop loss\", -1: \"Stop gain\", 0: \"all\", 1: \"syn\", 2: \"syn4f\"})\n",
    "\n",
    "_pivot_mutations = pd.pivot_table(\n",
    "    _mutations_description,\n",
    "    values=\"Mut\", index=\"Gene\", columns=\"Label\", fill_value=0\n",
    ")[[\"Stop loss\",  \"Stop gain\", \"all\", \"syn\", \"syn4f\"]]\n",
    "\n",
    "_pivot_mutations.index = _pivot_mutations.index.map(\n",
    "    {i: x for i, x in enumerate(genes_order, 1)})\n",
    "_pivot_mutations"
   ]
  },
  {
   "cell_type": "code",
   "execution_count": null,
   "metadata": {},
   "outputs": [],
   "source": []
  },
  {
   "cell_type": "markdown",
   "metadata": {},
   "source": [
    "### Translate MutSpec to heavy strand\n",
    "\n",
    "(Genes are on Heavy strand, but sequenced Light strand equivalent - mRNA)"
   ]
  },
  {
   "cell_type": "code",
   "execution_count": 40,
   "metadata": {},
   "outputs": [],
   "source": [
    "translator = str.maketrans(\"ACGT\", \"TGCA\")\n",
    "\n",
    "\n",
    "def rev_comp(mut: str):\n",
    "    new_mut = mut[-1] + mut[1:-1] + mut[0]\n",
    "    new_mut = new_mut.translate(translator)\n",
    "    return new_mut"
   ]
  },
  {
   "cell_type": "code",
   "execution_count": 41,
   "metadata": {},
   "outputs": [],
   "source": [
    "edge_mutspec[\"Mut\"] = edge_mutspec[\"Mut\"].str.translate(translator)\n",
    "\n",
    "edge_mutspec_all[\"Mut\"] = edge_mutspec_all[\"Mut\"].str.translate(translator)\n",
    "edge_mutspec_syn[\"Mut\"] = edge_mutspec_syn[\"Mut\"].str.translate(translator)\n",
    "edge_mutspec_ff[\"Mut\"] = edge_mutspec_ff[\"Mut\"].str.translate(translator)"
   ]
  },
  {
   "cell_type": "markdown",
   "metadata": {},
   "source": [
    "### Plot mutations and MutSpec"
   ]
  },
  {
   "cell_type": "code",
   "execution_count": 42,
   "metadata": {},
   "outputs": [
    {
     "data": {
      "image/png": "[encoded data removed]",
      "text/plain": [
       "<Figure size 432x288 with 1 Axes>"
      ]
     },
     "metadata": {
      "needs_background": "light"
     },
     "output_type": "display_data"
    }
   ],
   "source": [
    "mutations.groupby(\"AltNode\").apply(len).hist(bins=30)\n",
    "plt.title(\"Distribution of edge mutation number\");"
   ]
  },
  {
   "cell_type": "code",
   "execution_count": 43,
   "metadata": {},
   "outputs": [
    {
     "data": {
      "image/png": "[encoded data removed]",
      "text/plain": [
       "<Figure size 864x576 with 1 Axes>"
      ]
     },
     "metadata": {
      "needs_background": "light"
     },
     "output_type": "display_data"
    }
   ],
   "source": [
    "plt.figure(figsize=(12, 8))\n",
    "sns.barplot(x=\"Mut\", y=\"MutSpec\", hue=\"Label\", data=edge_mutspec, order=sorted(edge_mutspec.Mut.unique()));\n",
    "plt.title(\"Mutational spectra\")\n",
    "plt.show()"
   ]
  },
  {
   "cell_type": "code",
   "execution_count": 44,
   "metadata": {},
   "outputs": [
    {
     "data": {
      "image/png": "[encoded data removed]",
      "text/plain": [
       "<Figure size 432x288 with 1 Axes>"
      ]
     },
     "metadata": {
      "needs_background": "light"
     },
     "output_type": "display_data"
    }
   ],
   "source": [
    "sns.barplot(x=\"Mut\", y=\"RawMutSpec\", data=edge_mutspec_syn, order=sorted(edge_mutspec_syn.Mut.unique()));\n",
    "plt.title(\"Synonymous mutational spectra\")\n",
    "# plt.savefig(\"../figures/nematoda_mutspec_syn.svg\")\n",
    "plt.show()"
   ]
  },
  {
   "cell_type": "code",
   "execution_count": 46,
   "metadata": {},
   "outputs": [
    {
     "data": {
      "image/png": "[encoded data removed]",
      "text/plain": [
       "<Figure size 432x288 with 1 Axes>"
      ]
     },
     "metadata": {
      "needs_background": "light"
     },
     "output_type": "display_data"
    }
   ],
   "source": [
    "sns.barplot(x=\"Mut\", y=\"RawMutSpec\", data=edge_mutspec_ff, order=sorted(edge_mutspec_ff.Mut.unique()));\n",
    "plt.title(\"Fourfold mutational spectra\")\n",
    "plt.show()"
   ]
  },
  {
   "cell_type": "code",
   "execution_count": 47,
   "metadata": {},
   "outputs": [
    {
     "data": {
      "image/png": "[encoded data removed]",
      "text/plain": [
       "<Figure size 432x288 with 1 Axes>"
      ]
     },
     "metadata": {
      "needs_background": "light"
     },
     "output_type": "display_data"
    }
   ],
   "source": [
    "sns.barplot(x=\"Mut\", y=\"RawMutSpec\", data=edge_mutspec_all, order=sorted(edge_mutspec_all.Mut.unique()));\n",
    "plt.title(\"Full mutational spectra\")\n",
    "# plt.savefig(\"../figures/nematoda_mutspec_all.svg\")\n",
    "plt.show()"
   ]
  },
  {
   "cell_type": "markdown",
   "metadata": {},
   "source": [
    "### Prepare edge data for tree vizualisation"
   ]
  },
  {
   "cell_type": "code",
   "execution_count": 14,
   "metadata": {},
   "outputs": [],
   "source": [
    "def prepare_one_mut_share_file(mutspec: pd.DataFrame, filename: str, sbs=\"C>T\"):\n",
    "    assert bool(re.match(\"[ACGT]>[ACGT]\", sbs)), \"sbs is not appropriate\"\n",
    "    cols = [\"RefNode\", \"AltNode\", \"MutSpec\"]\n",
    "    for c in cols:\n",
    "        assert c in mutspec, f\"Column {c} is not in mutspec dataframe\"\n",
    "    \n",
    "    shares = mutspec[mutspec.Mut == sbs][cols]\n",
    "    shares.to_csv(filename, \"\\t\", index=None)\n",
    "    return shares\n"
   ]
  },
  {
   "cell_type": "code",
   "execution_count": 27,
   "metadata": {},
   "outputs": [],
   "source": [
    "pref_sbs = \"C>T\"\n",
    "prepare_one_mut_share_file(edge_mutspec, \"../data/processed/c2t_edge_mutspec.tsv\")"
   ]
  },
  {
   "cell_type": "code",
   "execution_count": 23,
   "metadata": {},
   "outputs": [
    {
     "data": {
      "text/plain": [
       "<AxesSubplot:>"
      ]
     },
     "execution_count": 23,
     "metadata": {},
     "output_type": "execute_result"
    },
    {
     "data": {
      "image/png": "[encoded data removed]",
      "text/plain": [
       "<Figure size 432x288 with 1 Axes>"
      ]
     },
     "metadata": {
      "needs_background": "light"
     },
     "output_type": "display_data"
    }
   ],
   "source": [
    "edge_mutspec_ff[edge_mutspec_ff.Mut == \"A>G\"][\"MutSpec\"].hist()"
   ]
  },
  {
   "cell_type": "markdown",
   "metadata": {},
   "source": [
    "### Grouping nodes on tree for everage mutspec"
   ]
  },
  {
   "cell_type": "code",
   "execution_count": 29,
   "metadata": {},
   "outputs": [
    {
     "ename": "FileNotFoundError",
     "evalue": "[Errno 2] No such file or directory: '../data/interim/nematoda_groups.txt'",
     "output_type": "error",
     "traceback": [
      "\u001b[0;31m---------------------------------------------------------------------------\u001b[0m",
      "\u001b[0;31mFileNotFoundError\u001b[0m                         Traceback (most recent call last)",
      "\u001b[1;32m/home/kpotoh/mutspec/notebooks/mut_extraction_nematoda.ipynb Cell 36'\u001b[0m in \u001b[0;36m<cell line: 5>\u001b[0;34m()\u001b[0m\n\u001b[1;32m      <a href='vscode-notebook-cell:/home/kpotoh/mutspec/notebooks/mut_extraction_nematoda.ipynb#ch0000037?line=2'>3</a>\u001b[0m _collect_names \u001b[39m=\u001b[39m \u001b[39mFalse\u001b[39;00m\n\u001b[1;32m      <a href='vscode-notebook-cell:/home/kpotoh/mutspec/notebooks/mut_extraction_nematoda.ipynb#ch0000037?line=3'>4</a>\u001b[0m groups \u001b[39m=\u001b[39m defaultdict(\u001b[39mlist\u001b[39m)\n\u001b[0;32m----> <a href='vscode-notebook-cell:/home/kpotoh/mutspec/notebooks/mut_extraction_nematoda.ipynb#ch0000037?line=4'>5</a>\u001b[0m \u001b[39mwith\u001b[39;00m \u001b[39mopen\u001b[39;49m(path_to_groups) \u001b[39mas\u001b[39;00m fin:\n\u001b[1;32m      <a href='vscode-notebook-cell:/home/kpotoh/mutspec/notebooks/mut_extraction_nematoda.ipynb#ch0000037?line=5'>6</a>\u001b[0m     \u001b[39mfor\u001b[39;00m line \u001b[39min\u001b[39;00m fin:\n\u001b[1;32m      <a href='vscode-notebook-cell:/home/kpotoh/mutspec/notebooks/mut_extraction_nematoda.ipynb#ch0000037?line=6'>7</a>\u001b[0m         \u001b[39mif\u001b[39;00m line\u001b[39m.\u001b[39mendswith(\u001b[39m\"\u001b[39m\u001b[39m)\u001b[39m\u001b[39m\\n\u001b[39;00m\u001b[39m\"\u001b[39m):\n",
      "\u001b[0;31mFileNotFoundError\u001b[0m: [Errno 2] No such file or directory: '../data/interim/nematoda_groups.txt'"
     ]
    }
   ],
   "source": [
    "path_to_groups = \"../data/interim/nematoda_groups.txt\"\n",
    "\n",
    "_collect_names = False\n",
    "groups = defaultdict(list)\n",
    "with open(path_to_groups) as fin:\n",
    "    for line in fin:\n",
    "        if line.endswith(\")\\n\"):\n",
    "            gr_num = int(line.strip(\")\\n\"))\n",
    "            _collect_names = True\n",
    "        else:\n",
    "            if len(line.strip()) == 0:\n",
    "                _collect_names = False\n",
    "\n",
    "            if _collect_names:\n",
    "                name = line.strip().replace(\" \", \"_\")\n",
    "                groups[gr_num].append(name)\n"
   ]
  },
  {
   "cell_type": "code",
   "execution_count": 33,
   "metadata": {},
   "outputs": [],
   "source": [
    "possible_sbs12 = sorted(edge_mutspec_all.Mut.unique())"
   ]
  },
  {
   "cell_type": "code",
   "execution_count": 34,
   "metadata": {},
   "outputs": [
    {
     "name": "stdout",
     "output_type": "stream",
     "text": [
      "All nodes found!\n"
     ]
    }
   ],
   "source": [
    "all_nodes = set(edge_mutspec_all.AltNode)\n",
    "\n",
    "for gr_num, gr in groups.items():\n",
    "    for name in gr:\n",
    "        if name not in all_nodes:\n",
    "            print(gr_num, name)\n",
    "print(\"All nodes found!\")"
   ]
  },
  {
   "cell_type": "code",
   "execution_count": 37,
   "metadata": {},
   "outputs": [],
   "source": [
    "def get_joined_mutspec(edge_mutspec, groups, sim_cutoff=0.85):\n",
    "    \"\"\" Join mutspec of edges by groups\"\"\"\n",
    "    full_mutspec = []\n",
    "    for lbl in edge_mutspec.Label.unique():\n",
    "        print(f\"\\nLabel: {lbl}\")\n",
    "        edge_mutspec_lbl = edge_mutspec[edge_mutspec.Label == lbl]\n",
    "        gr_mutspec = []\n",
    "        for gr_num, gr in groups.items():\n",
    "            pruned_tree = tree.copy()\n",
    "            pruned_tree.prune(gr)\n",
    "            assert len(pruned_tree) == len(gr)\n",
    "\n",
    "            full_gr = [x.name for x in pruned_tree.iter_descendants()]\n",
    "            gr_ms = edge_mutspec_lbl[edge_mutspec_lbl[\"AltNode\"].isin(full_gr)]\n",
    "\n",
    "            separated_ms = []\n",
    "            for node in full_gr:\n",
    "                sms = gr_ms[gr_ms[\"AltNode\"] == node].sort_values(\"Mut\")[\"MutSpec\"].values\n",
    "                separated_ms.append(sms)\n",
    "            \n",
    "            to_drop = []\n",
    "            for sms1, node1 in zip(separated_ms, full_gr):\n",
    "                one_sims = []\n",
    "                for sms2, node2 in zip(separated_ms, full_gr):\n",
    "                    if node1 == node2:\n",
    "                        continue\n",
    "                    sim = 1 - spatial.distance.cosine(sms1, sms2)\n",
    "                    one_sims.append(sim)\n",
    "                \n",
    "                if np.mean(one_sims) < sim_cutoff:\n",
    "                    print(f\"Drop node {node1} from group {gr_num} with average similarity to other nodes {np.mean(one_sims):.2f}\")\n",
    "                    to_drop.append(node1)\n",
    "\n",
    "            full_gr = set(full_gr).difference(to_drop)\n",
    "            if len(full_gr) < 2:\n",
    "                continue\n",
    "            gr_ms = edge_mutspec_lbl[edge_mutspec_lbl[\"AltNode\"].isin(full_gr)]\n",
    "            gr_ms[\"Group\"] = gr_num\n",
    "            gr_mutspec.append(gr_ms)\n",
    "        gr_mutspec_df = pd.concat(gr_mutspec)\n",
    "        full_mutspec.append(gr_mutspec_df)\n",
    "    full_mutspec_df = pd.concat(full_mutspec)\n",
    "    return full_mutspec_df\n"
   ]
  },
  {
   "cell_type": "code",
   "execution_count": 39,
   "metadata": {},
   "outputs": [
    {
     "name": "stdout",
     "output_type": "stream",
     "text": [
      "\n",
      "Label: all\n",
      "Drop node Node86 from group 1 with average similarity to other nodes 0.82\n",
      "Drop node Cyathostomum_catinatum from group 1 with average similarity to other nodes 0.85\n",
      "Drop node Cyathostomum_pateratum from group 1 with average similarity to other nodes 0.85\n",
      "Drop node Node101 from group 2 with average similarity to other nodes 0.79\n",
      "Drop node Hypodontus_macropi from group 2 with average similarity to other nodes 0.81\n",
      "Drop node Oesophagostomum_dentatum from group 2 with average similarity to other nodes 0.85\n",
      "Drop node Node115 from group 3 with average similarity to other nodes 0.82\n",
      "Drop node Node70 from group 4 with average similarity to other nodes 0.79\n",
      "Drop node Metastrongylus_pudendotectus from group 4 with average similarity to other nodes 0.80\n",
      "Drop node Angiostrongylus_malaysiensis from group 4 with average similarity to other nodes 0.82\n",
      "Drop node Node124 from group 5 with average similarity to other nodes 0.78\n",
      "Drop node Node125 from group 5 with average similarity to other nodes 0.71\n",
      "Drop node Node129 from group 5 with average similarity to other nodes 0.81\n",
      "Drop node Node133 from group 5 with average similarity to other nodes 0.81\n",
      "Drop node Node51 from group 6 with average similarity to other nodes 0.85\n",
      "Drop node Contracaecum_rudolphii_B_Bullini_et_al_1986 from group 6 with average similarity to other nodes 0.85\n",
      "Drop node Contracaecum_ogmorhini_sensu_lato_Australia from group 6 with average similarity to other nodes 0.74\n",
      "Drop node Pseudoterranova_azarasi from group 6 with average similarity to other nodes 0.82\n",
      "Drop node Anisakis_pegreffii from group 6 with average similarity to other nodes 0.71\n",
      "Drop node Node56 from group 7 with average similarity to other nodes 0.83\n",
      "Drop node Node58 from group 7 with average similarity to other nodes 0.73\n",
      "Drop node Node59 from group 7 with average similarity to other nodes 0.69\n",
      "Drop node Toxascaris_leonina from group 7 with average similarity to other nodes 0.85\n",
      "Drop node Node60 from group 7 with average similarity to other nodes 0.83\n",
      "Drop node Node64 from group 7 with average similarity to other nodes 0.78\n",
      "Drop node Node61 from group 7 with average similarity to other nodes 0.79\n",
      "Drop node Node65 from group 7 with average similarity to other nodes 0.81\n",
      "Drop node Node62 from group 7 with average similarity to other nodes 0.79\n",
      "Drop node Ascaris_suum from group 7 with average similarity to other nodes 0.79\n",
      "Drop node Parascaris_equorum from group 7 with average similarity to other nodes 0.65\n",
      "Drop node Parascaris_univalens from group 7 with average similarity to other nodes 0.14\n",
      "Drop node Baylisascaris_schroederi from group 7 with average similarity to other nodes 0.85\n",
      "Drop node Baylisascaris_transfuga from group 7 with average similarity to other nodes 0.84\n",
      "Drop node Ascaris_lumbricoides from group 7 with average similarity to other nodes 0.84\n",
      "Drop node Ascaris_ovis from group 7 with average similarity to other nodes 0.77\n",
      "Drop node Node38 from group 8 with average similarity to other nodes 0.78\n",
      "Drop node Ascaridia_galli from group 8 with average similarity to other nodes 0.85\n",
      "Drop node Aphelenchoides_besseyi from group 10 with average similarity to other nodes 0.81\n",
      "Drop node Node139 from group 10 with average similarity to other nodes 0.80\n",
      "Drop node Bursaphelenchus_xylophilus from group 10 with average similarity to other nodes 0.79\n",
      "Drop node Bursaphelenchus_mucronatus from group 10 with average similarity to other nodes 0.82\n",
      "Drop node Node13 from group 13 with average similarity to other nodes 0.78\n",
      "Drop node Node15 from group 13 with average similarity to other nodes 0.77\n",
      "Drop node Node16 from group 13 with average similarity to other nodes 0.79\n",
      "Drop node Node20 from group 13 with average similarity to other nodes 0.79\n",
      "Drop node Setaria_labiatopapillosa from group 13 with average similarity to other nodes 0.79\n",
      "Drop node Node23 from group 13 with average similarity to other nodes 0.79\n",
      "Drop node Node24 from group 13 with average similarity to other nodes 0.83\n",
      "Drop node Onchocerca_flexuosa from group 13 with average similarity to other nodes 0.82\n",
      "Drop node Meloidogyne_graminicola from group 15 with average similarity to other nodes 0.63\n",
      "Drop node Node8 from group 15 with average similarity to other nodes 0.77\n",
      "Drop node Meloidogyne_enterolobii from group 15 with average similarity to other nodes 0.55\n",
      "Drop node Node9 from group 15 with average similarity to other nodes 0.75\n",
      "Drop node Meloidogyne_arenaria from group 15 with average similarity to other nodes 0.66\n",
      "Drop node Node10 from group 15 with average similarity to other nodes 0.36\n",
      "Drop node Meloidogyne_incognita from group 15 with average similarity to other nodes 0.66\n",
      "Drop node Meloidogyne_javanica from group 15 with average similarity to other nodes 0.65\n",
      "\n",
      "Label: syn\n",
      "Drop node Node86 from group 1 with average similarity to other nodes 0.80\n",
      "Drop node Cyathostomum_pateratum from group 1 with average similarity to other nodes 0.85\n",
      "Drop node Node98 from group 2 with average similarity to other nodes 0.80\n",
      "Drop node Node101 from group 2 with average similarity to other nodes 0.72\n",
      "Drop node Hypodontus_macropi from group 2 with average similarity to other nodes 0.80\n",
      "Drop node Oesophagostomum_dentatum from group 2 with average similarity to other nodes 0.84\n",
      "Drop node Node114 from group 3 with average similarity to other nodes 0.80\n",
      "Drop node Node115 from group 3 with average similarity to other nodes 0.75\n",
      "Drop node Node70 from group 4 with average similarity to other nodes 0.77\n",
      "Drop node Metastrongylus_pudendotectus from group 4 with average similarity to other nodes 0.79\n",
      "Drop node Angiostrongylus_malaysiensis from group 4 with average similarity to other nodes 0.84\n",
      "Drop node Node124 from group 5 with average similarity to other nodes 0.68\n",
      "Drop node Caenorhabditis_plicata from group 5 with average similarity to other nodes 0.81\n",
      "Drop node Node125 from group 5 with average similarity to other nodes 0.70\n",
      "Drop node Node134 from group 5 with average similarity to other nodes 0.84\n",
      "Drop node Node129 from group 5 with average similarity to other nodes 0.77\n",
      "Drop node Node133 from group 5 with average similarity to other nodes 0.80\n",
      "Drop node Node132 from group 5 with average similarity to other nodes 0.85\n",
      "Drop node Contracaecum_ogmorhini_sensu_lato_Australia from group 6 with average similarity to other nodes 0.78\n",
      "Drop node Pseudoterranova_azarasi from group 6 with average similarity to other nodes 0.82\n",
      "Drop node Anisakis_pegreffii from group 6 with average similarity to other nodes 0.75\n",
      "Drop node Node58 from group 7 with average similarity to other nodes 0.67\n",
      "Drop node Node59 from group 7 with average similarity to other nodes 0.71\n",
      "Drop node Node64 from group 7 with average similarity to other nodes 0.76\n",
      "Drop node Node61 from group 7 with average similarity to other nodes 0.81\n",
      "Drop node Node65 from group 7 with average similarity to other nodes 0.84\n",
      "Drop node Node62 from group 7 with average similarity to other nodes 0.83\n",
      "Drop node Ascaris_suum from group 7 with average similarity to other nodes 0.83\n",
      "Drop node Parascaris_equorum from group 7 with average similarity to other nodes 0.58\n",
      "Drop node Ascaris_lumbricoides from group 7 with average similarity to other nodes 0.72\n",
      "Drop node Ascaris_ovis from group 7 with average similarity to other nodes 0.81\n",
      "Drop node Node38 from group 8 with average similarity to other nodes 0.76\n",
      "Drop node Ascaridia_columbae from group 8 with average similarity to other nodes 0.83\n",
      "Drop node Ascaridia_galli from group 8 with average similarity to other nodes 0.83\n",
      "Drop node Aphelenchoides_besseyi from group 10 with average similarity to other nodes 0.64\n",
      "Drop node Node139 from group 10 with average similarity to other nodes 0.65\n",
      "Drop node Bursaphelenchus_xylophilus from group 10 with average similarity to other nodes 0.77\n",
      "Drop node Bursaphelenchus_mucronatus from group 10 with average similarity to other nodes 0.74\n",
      "Drop node Node13 from group 13 with average similarity to other nodes 0.67\n",
      "Drop node Node15 from group 13 with average similarity to other nodes 0.61\n",
      "Drop node Node16 from group 13 with average similarity to other nodes 0.69\n",
      "Drop node Node20 from group 13 with average similarity to other nodes 0.70\n",
      "Drop node Setaria_labiatopapillosa from group 13 with average similarity to other nodes 0.81\n",
      "Drop node Node23 from group 13 with average similarity to other nodes 0.75\n",
      "Drop node Chandlerella_quiscali from group 13 with average similarity to other nodes 0.83\n",
      "Drop node Onchocerca_flexuosa from group 13 with average similarity to other nodes 0.84\n",
      "Drop node Meloidogyne_graminicola from group 15 with average similarity to other nodes 0.41\n",
      "Drop node Node8 from group 15 with average similarity to other nodes 0.67\n",
      "Drop node Meloidogyne_enterolobii from group 15 with average similarity to other nodes 0.58\n",
      "Drop node Node9 from group 15 with average similarity to other nodes 0.68\n",
      "Drop node Meloidogyne_arenaria from group 15 with average similarity to other nodes 0.60\n",
      "Drop node Node10 from group 15 with average similarity to other nodes 0.10\n",
      "Drop node Meloidogyne_incognita from group 15 with average similarity to other nodes 0.62\n",
      "Drop node Meloidogyne_javanica from group 15 with average similarity to other nodes 0.61\n",
      "\n",
      "Label: ff\n",
      "Drop node Node84 from group 1 with average similarity to other nodes 0.83\n",
      "Drop node Node85 from group 1 with average similarity to other nodes 0.71\n",
      "Drop node Strongylus_vulgaris from group 1 with average similarity to other nodes 0.84\n",
      "Drop node Strongylus_equinus from group 1 with average similarity to other nodes 0.82\n",
      "Drop node Poteriostomum_imparidentatum from group 1 with average similarity to other nodes 0.83\n",
      "Drop node Node86 from group 1 with average similarity to other nodes 0.69\n",
      "Drop node Node87 from group 1 with average similarity to other nodes 0.83\n",
      "Drop node Node95 from group 1 with average similarity to other nodes 0.79\n",
      "Drop node Node88 from group 1 with average similarity to other nodes 0.78\n",
      "Drop node Cylicostephanus_minutus from group 1 with average similarity to other nodes 0.85\n",
      "Drop node Node96 from group 1 with average similarity to other nodes 0.81\n",
      "Drop node Triodontophorus_nipponicus from group 1 with average similarity to other nodes 0.84\n",
      "Drop node Node90 from group 1 with average similarity to other nodes 0.83\n",
      "Drop node Node92 from group 1 with average similarity to other nodes 0.83\n",
      "Drop node Node93 from group 1 with average similarity to other nodes 0.85\n",
      "Drop node Cyathostomum_catinatum from group 1 with average similarity to other nodes 0.69\n",
      "Drop node Cyathostomum_pateratum from group 1 with average similarity to other nodes 0.67\n",
      "Drop node Cylicocyclus_auriculatus from group 1 with average similarity to other nodes 0.83\n",
      "Drop node Cylicocyclus_insigne from group 1 with average similarity to other nodes 0.81\n",
      "Drop node Node94 from group 1 with average similarity to other nodes 0.82\n",
      "Drop node Cylicocyclus_radiatus from group 1 with average similarity to other nodes 0.75\n",
      "Drop node Cylicocyclus_ashworthi from group 1 with average similarity to other nodes 0.76\n",
      "Drop node Node98 from group 2 with average similarity to other nodes 0.81\n",
      "Drop node Node101 from group 2 with average similarity to other nodes 0.84\n",
      "Drop node Chabertia_erschowi from group 2 with average similarity to other nodes 0.83\n",
      "Drop node Oesophagostomum_dentatum from group 2 with average similarity to other nodes 0.84\n",
      "Drop node Node111 from group 3 with average similarity to other nodes 0.82\n",
      "Drop node Node113 from group 3 with average similarity to other nodes 0.76\n",
      "Drop node Node112 from group 3 with average similarity to other nodes 0.80\n",
      "Drop node Node114 from group 3 with average similarity to other nodes 0.76\n",
      "Drop node Nematodirus_oiratianus from group 3 with average similarity to other nodes 0.76\n",
      "Drop node Nematodirus_spathiger from group 3 with average similarity to other nodes 0.83\n",
      "Drop node Node115 from group 3 with average similarity to other nodes 0.66\n",
      "Drop node Node117 from group 3 with average similarity to other nodes 0.83\n",
      "Drop node Node70 from group 4 with average similarity to other nodes 0.79\n",
      "Drop node Dictyocaulus_viviparus from group 4 with average similarity to other nodes 0.70\n",
      "Drop node Node71 from group 4 with average similarity to other nodes 0.75\n",
      "Drop node Node76 from group 4 with average similarity to other nodes 0.72\n",
      "Drop node Node72 from group 4 with average similarity to other nodes 0.71\n",
      "Drop node Protostrongylus_rufescens from group 4 with average similarity to other nodes 0.78\n",
      "Drop node Parafilaroides_normani from group 4 with average similarity to other nodes 0.82\n",
      "Drop node Node77 from group 4 with average similarity to other nodes 0.80\n",
      "Drop node Aelurostrongylus_abstrusus from group 4 with average similarity to other nodes 0.76\n",
      "Drop node Node73 from group 4 with average similarity to other nodes 0.79\n",
      "Drop node Metastrongylus_pudendotectus from group 4 with average similarity to other nodes 0.64\n",
      "Drop node Node74 from group 4 with average similarity to other nodes 0.83\n",
      "Drop node Angiostrongylus_costaricensis from group 4 with average similarity to other nodes 0.83\n",
      "Drop node Node75 from group 4 with average similarity to other nodes 0.78\n",
      "Drop node Angiostrongylus_malaysiensis from group 4 with average similarity to other nodes 0.76\n",
      "Drop node Angiostrongylus_cantonensis from group 4 with average similarity to other nodes 0.84\n",
      "Drop node Angiostrongylus_mackerrasae from group 4 with average similarity to other nodes 0.80\n",
      "Drop node Node124 from group 5 with average similarity to other nodes 0.79\n",
      "Drop node Node125 from group 5 with average similarity to other nodes 0.65\n",
      "Drop node Node126 from group 5 with average similarity to other nodes 0.84\n",
      "Drop node Node134 from group 5 with average similarity to other nodes 0.80\n",
      "Drop node Node127 from group 5 with average similarity to other nodes 0.79\n",
      "Drop node Node129 from group 5 with average similarity to other nodes 0.76\n",
      "Drop node Caenorhabditis_castelli from group 5 with average similarity to other nodes 0.82\n",
      "Drop node Node128 from group 5 with average similarity to other nodes 0.77\n",
      "Drop node Node130 from group 5 with average similarity to other nodes 0.80\n",
      "Drop node Node133 from group 5 with average similarity to other nodes 0.75\n",
      "Drop node Node131 from group 5 with average similarity to other nodes 0.80\n",
      "Drop node Node132 from group 5 with average similarity to other nodes 0.82\n",
      "Drop node Caenorhabditis_elegans from group 5 with average similarity to other nodes 0.77\n",
      "Drop node Node44 from group 6 with average similarity to other nodes 0.68\n",
      "Drop node Node51 from group 6 with average similarity to other nodes 0.69\n",
      "Drop node Node45 from group 6 with average similarity to other nodes 0.72\n",
      "Drop node Node49 from group 6 with average similarity to other nodes 0.68\n",
      "Drop node Contracaecum_osculatum from group 6 with average similarity to other nodes 0.61\n",
      "Drop node Node52 from group 6 with average similarity to other nodes 0.59\n",
      "Drop node Node46 from group 6 with average similarity to other nodes 0.76\n",
      "Drop node Node47 from group 6 with average similarity to other nodes 0.75\n",
      "Drop node Anisakis_berlandi from group 6 with average similarity to other nodes 0.79\n",
      "Drop node Node50 from group 6 with average similarity to other nodes 0.73\n",
      "Drop node Contracaecum_rudolphii_B_Bullini_et_al_1986 from group 6 with average similarity to other nodes 0.69\n",
      "Drop node Contracaecum_ogmorhini_sensu_lato_Australia from group 6 with average similarity to other nodes 0.72\n",
      "Drop node Pseudoterranova_azarasi from group 6 with average similarity to other nodes 0.55\n",
      "Drop node Pseudoterranova_decipiens_sensu_lato_Germany from group 6 with average similarity to other nodes 0.79\n",
      "Drop node Node48 from group 6 with average similarity to other nodes 0.69\n",
      "Drop node Pseudoterranova_krabbei from group 6 with average similarity to other nodes 0.79\n",
      "Drop node Anisakis_pegreffii from group 6 with average similarity to other nodes 0.59\n",
      "Drop node Anisakis_simplex from group 6 with average similarity to other nodes 0.71\n",
      "Drop node Pseudoterranova_bulbosa from group 6 with average similarity to other nodes 0.80\n",
      "Drop node Pseudoterranova_cattani from group 6 with average similarity to other nodes 0.81\n",
      "Drop node Node56 from group 7 with average similarity to other nodes 0.74\n",
      "Drop node Node58 from group 7 with average similarity to other nodes 0.76\n",
      "Drop node Node57 from group 7 with average similarity to other nodes 0.58\n",
      "Drop node Toxocara_canis from group 7 with average similarity to other nodes 0.75\n",
      "Drop node Node59 from group 7 with average similarity to other nodes 0.74\n",
      "Drop node Toxascaris_leonina from group 7 with average similarity to other nodes 0.74\n",
      "Drop node Toxocara_malaysiensis from group 7 with average similarity to other nodes 0.80\n",
      "Drop node Toxocara_cati from group 7 with average similarity to other nodes 0.80\n",
      "Drop node Node60 from group 7 with average similarity to other nodes 0.75\n",
      "Drop node Node64 from group 7 with average similarity to other nodes 0.73\n",
      "Drop node Node61 from group 7 with average similarity to other nodes 0.72\n",
      "Drop node Node63 from group 7 with average similarity to other nodes 0.80\n",
      "Drop node Baylisascaris_procyonis from group 7 with average similarity to other nodes 0.81\n",
      "Drop node Node65 from group 7 with average similarity to other nodes 0.77\n",
      "Drop node Node62 from group 7 with average similarity to other nodes 0.59\n",
      "Drop node Ascaris_suum from group 7 with average similarity to other nodes 0.57\n",
      "Drop node Parascaris_equorum from group 7 with average similarity to other nodes 0.66\n",
      "Drop node Baylisascaris_schroederi from group 7 with average similarity to other nodes 0.73\n",
      "Drop node Baylisascaris_transfuga from group 7 with average similarity to other nodes 0.69\n",
      "Drop node Ascaris_lumbricoides from group 7 with average similarity to other nodes 0.35\n",
      "Drop node Ascaris_ovis from group 7 with average similarity to other nodes 0.53\n",
      "Drop node Node38 from group 8 with average similarity to other nodes 0.69\n",
      "Drop node Ascaridia_columbae from group 8 with average similarity to other nodes 0.71\n",
      "Drop node Node39 from group 8 with average similarity to other nodes 0.80\n",
      "Drop node Ascaridia_galli from group 8 with average similarity to other nodes 0.55\n",
      "Drop node Heterakis_beramporia from group 8 with average similarity to other nodes 0.81\n",
      "Drop node Node40 from group 8 with average similarity to other nodes 0.82\n",
      "Drop node Heterakis_dispar from group 8 with average similarity to other nodes 0.83\n",
      "Drop node Strongyloides_venezuelensis from group 12 with average similarity to other nodes 0.72\n",
      "Drop node Node142 from group 12 with average similarity to other nodes 0.72\n",
      "Drop node Strongyloides_ratti from group 12 with average similarity to other nodes 0.84\n",
      "Drop node Strongyloides_stercoralis from group 12 with average similarity to other nodes 0.74\n",
      "Drop node Node13 from group 13 with average similarity to other nodes 0.46\n",
      "Drop node Thelazia_callipaeda from group 13 with average similarity to other nodes 0.66\n",
      "Drop node Node14 from group 13 with average similarity to other nodes 0.53\n",
      "Drop node Node15 from group 13 with average similarity to other nodes 0.29\n",
      "Drop node Spirocerca_lupi from group 13 with average similarity to other nodes 0.65\n",
      "Drop node Gongylonema_pulchrum from group 13 with average similarity to other nodes 0.71\n",
      "Drop node Node16 from group 13 with average similarity to other nodes 0.38\n",
      "Drop node Node26 from group 13 with average similarity to other nodes 0.60\n",
      "Drop node Node17 from group 13 with average similarity to other nodes 0.20\n",
      "Drop node Node20 from group 13 with average similarity to other nodes 0.54\n",
      "Drop node Setaria_digitata from group 13 with average similarity to other nodes 0.63\n",
      "Drop node Setaria_labiatopapillosa from group 13 with average similarity to other nodes 0.55\n",
      "Drop node Node18 from group 13 with average similarity to other nodes 0.41\n",
      "Drop node Acanthocheilonema_viteae from group 13 with average similarity to other nodes 0.63\n",
      "Drop node Node21 from group 13 with average similarity to other nodes 0.52\n",
      "Drop node Node23 from group 13 with average similarity to other nodes 0.57\n",
      "Drop node Node19 from group 13 with average similarity to other nodes 0.70\n",
      "Drop node Chandlerella_quiscali from group 13 with average similarity to other nodes 0.61\n",
      "Drop node Node22 from group 13 with average similarity to other nodes 0.63\n",
      "Drop node Dirofilaria_immitis from group 13 with average similarity to other nodes 0.65\n",
      "Drop node Node24 from group 13 with average similarity to other nodes 0.68\n",
      "Drop node Onchocerca_flexuosa from group 13 with average similarity to other nodes 0.65\n",
      "Drop node Wuchereria_bancrofti from group 13 with average similarity to other nodes 0.65\n",
      "Drop node Brugia_malayi from group 13 with average similarity to other nodes 0.63\n",
      "Drop node Dirofilaria_repens from group 13 with average similarity to other nodes 0.68\n",
      "Drop node Dirofilaria_sp_hongkongensis from group 13 with average similarity to other nodes 0.62\n",
      "Drop node Node25 from group 13 with average similarity to other nodes 0.71\n",
      "Drop node Onchocerca_lupi from group 13 with average similarity to other nodes 0.73\n",
      "Drop node Onchocerca_ochengi from group 13 with average similarity to other nodes 0.42\n",
      "Drop node Onchocerca_volvulus from group 13 with average similarity to other nodes 0.46\n",
      "Drop node Meloidogyne_graminicola from group 15 with average similarity to other nodes 0.35\n",
      "Drop node Node8 from group 15 with average similarity to other nodes 0.38\n",
      "Drop node Meloidogyne_enterolobii from group 15 with average similarity to other nodes 0.34\n",
      "Drop node Node9 from group 15 with average similarity to other nodes 0.33\n",
      "Drop node Meloidogyne_arenaria from group 15 with average similarity to other nodes 0.26\n",
      "Drop node Node10 from group 15 with average similarity to other nodes 0.01\n",
      "Drop node Meloidogyne_incognita from group 15 with average similarity to other nodes 0.20\n",
      "Drop node Meloidogyne_javanica from group 15 with average similarity to other nodes 0.14\n"
     ]
    }
   ],
   "source": [
    "gr_mutspec = get_joined_mutspec(edge_mutspec, groups)"
   ]
  },
  {
   "cell_type": "code",
   "execution_count": 67,
   "metadata": {},
   "outputs": [],
   "source": [
    "# mean_mutspec_all = edge_mutspec_all.groupby(\"Mut\").MutSpec.mean().sort_index()\n",
    "# print(\"All\")\n",
    "# print(\"Group\\tSimilarity to mean tree MutSpec\")\n",
    "# for gr_num in gr_mutspec_all:\n",
    "#     ms = gr_mutspec_all[gr_num].sort_values(\"Mut\").MutSpec\n",
    "#     if len(ms) == 12:\n",
    "#         sim = 1 - spatial.distance.cosine(ms, mean_mutspec_all)\n",
    "#         print(f\"{gr_num}\\t{sim:.2f}\")"
   ]
  },
  {
   "cell_type": "code",
   "execution_count": 68,
   "metadata": {},
   "outputs": [],
   "source": [
    "# mean_mutspec_syn = edge_mutspec_syn.groupby(\"Mut\").MutSpec.mean().sort_index()\n",
    "# print(\"Syn\")\n",
    "# print(\"Group\\tSimilarity to mean tree MutSpec\")\n",
    "# for gr_num in gr_mutspec_syn:\n",
    "#     ms = gr_mutspec_syn[gr_num].sort_values(\"Mut\").MutSpec\n",
    "#     if len(ms) == 12:\n",
    "#         sim = 1 - spatial.distance.cosine(ms, mean_mutspec_syn)\n",
    "#         print(f\"{gr_num}\\t{sim:.2f}\")"
   ]
  },
  {
   "cell_type": "code",
   "execution_count": 69,
   "metadata": {},
   "outputs": [],
   "source": [
    "# mean_mutspec_ff = edge_mutspec_ff.groupby(\"Mut\").MutSpec.mean().sort_index()\n",
    "# print(\"Fourfold\")\n",
    "# print(\"Group\\tSimilarity to mean tree MutSpec\")\n",
    "# for gr_num in gr_mutspec_ff:\n",
    "#     ms = gr_mutspec_ff[gr_num].sort_values(\"Mut\").MutSpec\n",
    "#     if len(ms) == 12:\n",
    "#         sim = 1 - spatial.distance.cosine(ms, mean_mutspec_ff)\n",
    "#         print(f\"{gr_num}\\t{sim:.2f}\")"
   ]
  },
  {
   "cell_type": "code",
   "execution_count": 41,
   "metadata": {},
   "outputs": [
    {
     "data": {
      "image/png": "[encoded data removed]",
      "text/plain": [
       "<Figure size 864x576 with 1 Axes>"
      ]
     },
     "metadata": {
      "needs_background": "light"
     },
     "output_type": "display_data"
    },
    {
     "data": {
      "image/png": "[encoded data removed]",
      "text/plain": [
       "<Figure size 864x576 with 1 Axes>"
      ]
     },
     "metadata": {
      "needs_background": "light"
     },
     "output_type": "display_data"
    },
    {
     "data": {
      "image/png": "[encoded data removed]",
      "text/plain": [
       "<Figure size 864x576 with 1 Axes>"
      ]
     },
     "metadata": {
      "needs_background": "light"
     },
     "output_type": "display_data"
    },
    {
     "data": {
      "image/png": "[encoded data removed]",
      "text/plain": [
       "<Figure size 864x576 with 1 Axes>"
      ]
     },
     "metadata": {
      "needs_background": "light"
     },
     "output_type": "display_data"
    },
    {
     "data": {
      "image/png": "[encoded data removed]",
      "text/plain": [
       "<Figure size 864x576 with 1 Axes>"
      ]
     },
     "metadata": {
      "needs_background": "light"
     },
     "output_type": "display_data"
    },
    {
     "data": {
      "image/png": "[encoded data removed]",
      "text/plain": [
       "<Figure size 864x576 with 1 Axes>"
      ]
     },
     "metadata": {
      "needs_background": "light"
     },
     "output_type": "display_data"
    },
    {
     "data": {
      "image/png": "[encoded data removed]",
      "text/plain": [
       "<Figure size 864x576 with 1 Axes>"
      ]
     },
     "metadata": {
      "needs_background": "light"
     },
     "output_type": "display_data"
    },
    {
     "data": {
      "image/png": "[encoded data removed]",
      "text/plain": [
       "<Figure size 864x576 with 1 Axes>"
      ]
     },
     "metadata": {
      "needs_background": "light"
     },
     "output_type": "display_data"
    },
    {
     "data": {
      "image/png": "[encoded data removed]",
      "text/plain": [
       "<Figure size 864x576 with 1 Axes>"
      ]
     },
     "metadata": {
      "needs_background": "light"
     },
     "output_type": "display_data"
    },
    {
     "data": {
      "image/png": "[encoded data removed]",
      "text/plain": [
       "<Figure size 864x576 with 1 Axes>"
      ]
     },
     "metadata": {
      "needs_background": "light"
     },
     "output_type": "display_data"
    },
    {
     "data": {
      "image/png": "[encoded data removed]",
      "text/plain": [
       "<Figure size 864x576 with 1 Axes>"
      ]
     },
     "metadata": {
      "needs_background": "light"
     },
     "output_type": "display_data"
    },
    {
     "data": {
      "image/png": "[encoded data removed]",
      "text/plain": [
       "<Figure size 864x576 with 1 Axes>"
      ]
     },
     "metadata": {
      "needs_background": "light"
     },
     "output_type": "display_data"
    },
    {
     "data": {
      "image/png": "[encoded data removed]",
      "text/plain": [
       "<Figure size 864x576 with 1 Axes>"
      ]
     },
     "metadata": {
      "needs_background": "light"
     },
     "output_type": "display_data"
    }
   ],
   "source": [
    "for gr_num in gr_mutspec.Group.unique():\n",
    "    ms = gr_mutspec[gr_mutspec.Group == gr_num]\n",
    "    mut_num = ms.ObsFr.sum()\n",
    "    if mut_num > 50:\n",
    "        plt.figure(figsize=(12, 8))\n",
    "        sns.barplot(x=\"Mut\", y=\"MutSpec\", hue=\"Label\", data=ms, order=possible_sbs12)\n",
    "        plt.title(f\"Mutational spectra for group {gr_num} --- {mut_num} mutations\")\n",
    "        plt.show()"
   ]
  },
  {
   "cell_type": "code",
   "execution_count": 47,
   "metadata": {},
   "outputs": [
    {
     "data": {
      "text/plain": [
       "array(['all', 'syn'], dtype=object)"
      ]
     },
     "execution_count": 47,
     "metadata": {},
     "output_type": "execute_result"
    }
   ],
   "source": [
    "gr_mutspec[gr_mutspec.Group == 13].Label.unique()"
   ]
  }
 ],
 "metadata": {
  "interpreter": {
   "hash": "168b15c321dd2602d32e2364c101fbe6179fdcd135a3910c88de948ab6dc8da5"
  },
  "kernelspec": {
   "display_name": "Python 3.9.5 ('env_ms': venv)",
   "language": "python",
   "name": "python3"
  },
  "language_info": {
   "codemirror_mode": {
    "name": "ipython",
    "version": 3
   },
   "file_extension": ".py",
   "mimetype": "text/x-python",
   "name": "python",
   "nbconvert_exporter": "python",
   "pygments_lexer": "ipython3",
   "version": "3.9.5"
  },
  "orig_nbformat": 4
 },
 "nbformat": 4,
 "nbformat_minor": 2
}
