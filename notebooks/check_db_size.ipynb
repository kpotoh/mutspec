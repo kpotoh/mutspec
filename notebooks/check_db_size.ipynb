{
 "cells": [
  {
   "cell_type": "code",
   "execution_count": 24,
   "metadata": {},
   "outputs": [],
   "source": [
    "import numpy as np\n",
    "import pandas as pd\n",
    "import matplotlib.pyplot as plt"
   ]
  },
  {
   "cell_type": "code",
   "execution_count": 4,
   "metadata": {},
   "outputs": [],
   "source": [
    "path_to_leaves = \"../data/example_birds/leaves_birds_states.tsv\""
   ]
  },
  {
   "cell_type": "code",
   "execution_count": 5,
   "metadata": {},
   "outputs": [],
   "source": [
    "states_dtype=np.float16\n",
    "dtypes = {\n",
    "    \"p_A\": states_dtype, \n",
    "    \"p_C\": states_dtype, \n",
    "    \"p_G\": states_dtype, \n",
    "    \"p_T\": states_dtype,\n",
    "    \"Site\": np.int32,\n",
    "    \"Part\": np.int8,\n",
    "}\n",
    "usecols = [\"Node\", \"Part\", \"Site\", \"p_A\", \"p_C\", \"p_G\", \"p_T\"]\n",
    "leaves = pd.read_csv(path_to_leaves, sep=\"\\t\", usecols=usecols, dtype=dtypes)"
   ]
  },
  {
   "cell_type": "code",
   "execution_count": 9,
   "metadata": {},
   "outputs": [
    {
     "data": {
      "text/plain": [
       "764"
      ]
     },
     "execution_count": 9,
     "metadata": {},
     "output_type": "execute_result"
    }
   ],
   "source": [
    "leaves.Node.nunique()"
   ]
  },
  {
   "cell_type": "code",
   "execution_count": 7,
   "metadata": {},
   "outputs": [
    {
     "name": "stdout",
     "output_type": "stream",
     "text": [
      "<class 'pandas.core.frame.DataFrame'>\n",
      "RangeIndex: 8652300 entries, 0 to 8652299\n",
      "Data columns (total 7 columns):\n",
      " #   Column  Dtype  \n",
      "---  ------  -----  \n",
      " 0   Node    object \n",
      " 1   Part    int8   \n",
      " 2   Site    int32  \n",
      " 3   p_A     float16\n",
      " 4   p_C     float16\n",
      " 5   p_G     float16\n",
      " 6   p_T     float16\n",
      "dtypes: float16(4), int32(1), int8(1), object(1)\n",
      "memory usage: 173.3+ MB\n"
     ]
    }
   ],
   "source": [
    "leaves.info()"
   ]
  },
  {
   "cell_type": "markdown",
   "metadata": {},
   "source": [
    "764 - 173MB<br>\n",
    "50000 - X"
   ]
  },
  {
   "cell_type": "code",
   "execution_count": 10,
   "metadata": {},
   "outputs": [
    {
     "data": {
      "text/plain": [
       "11321.989528795812"
      ]
     },
     "execution_count": 10,
     "metadata": {},
     "output_type": "execute_result"
    }
   ],
   "source": [
    "50000 * 173 / 764  # MB"
   ]
  },
  {
   "cell_type": "code",
   "execution_count": 18,
   "metadata": {},
   "outputs": [],
   "source": [
    "import sqlite3\n",
    "\n",
    "path_to_db = '/tmp/example.db'\n",
    "con = sqlite3.connect(path_to_db)\n",
    "cur = con.cursor()"
   ]
  },
  {
   "cell_type": "code",
   "execution_count": 25,
   "metadata": {},
   "outputs": [],
   "source": [
    "data = []\n",
    "for row in cur.execute(\"SELECT * FROM states WHERE Node='Acanthisitta_chloris' ORDER by Part,Site\"):\n",
    "    data.append(row)\n",
    "    # pass"
   ]
  },
  {
   "cell_type": "code",
   "execution_count": 27,
   "metadata": {},
   "outputs": [
    {
     "data": {
      "text/html": [
       "<div>\n",
       "<style scoped>\n",
       "    .dataframe tbody tr th:only-of-type {\n",
       "        vertical-align: middle;\n",
       "    }\n",
       "\n",
       "    .dataframe tbody tr th {\n",
       "        vertical-align: top;\n",
       "    }\n",
       "\n",
       "    .dataframe thead th {\n",
       "        text-align: right;\n",
       "    }\n",
       "</style>\n",
       "<table border=\"1\" class=\"dataframe\">\n",
       "  <thead>\n",
       "    <tr style=\"text-align: right;\">\n",
       "      <th></th>\n",
       "      <th>0</th>\n",
       "      <th>1</th>\n",
       "      <th>2</th>\n",
       "      <th>3</th>\n",
       "      <th>4</th>\n",
       "      <th>5</th>\n",
       "      <th>6</th>\n",
       "      <th>7</th>\n",
       "    </tr>\n",
       "  </thead>\n",
       "  <tbody>\n",
       "    <tr>\n",
       "      <th>0</th>\n",
       "      <td>Acanthisitta_chloris</td>\n",
       "      <td>1</td>\n",
       "      <td>1</td>\n",
       "      <td>-</td>\n",
       "      <td>0.0</td>\n",
       "      <td>0.0</td>\n",
       "      <td>0.0</td>\n",
       "      <td>0.0</td>\n",
       "    </tr>\n",
       "    <tr>\n",
       "      <th>1</th>\n",
       "      <td>Acanthisitta_chloris</td>\n",
       "      <td>1</td>\n",
       "      <td>2</td>\n",
       "      <td>-</td>\n",
       "      <td>0.0</td>\n",
       "      <td>0.0</td>\n",
       "      <td>0.0</td>\n",
       "      <td>0.0</td>\n",
       "    </tr>\n",
       "    <tr>\n",
       "      <th>2</th>\n",
       "      <td>Acanthisitta_chloris</td>\n",
       "      <td>1</td>\n",
       "      <td>3</td>\n",
       "      <td>-</td>\n",
       "      <td>0.0</td>\n",
       "      <td>0.0</td>\n",
       "      <td>0.0</td>\n",
       "      <td>0.0</td>\n",
       "    </tr>\n",
       "    <tr>\n",
       "      <th>3</th>\n",
       "      <td>Acanthisitta_chloris</td>\n",
       "      <td>1</td>\n",
       "      <td>4</td>\n",
       "      <td>-</td>\n",
       "      <td>0.0</td>\n",
       "      <td>0.0</td>\n",
       "      <td>0.0</td>\n",
       "      <td>0.0</td>\n",
       "    </tr>\n",
       "    <tr>\n",
       "      <th>4</th>\n",
       "      <td>Acanthisitta_chloris</td>\n",
       "      <td>1</td>\n",
       "      <td>5</td>\n",
       "      <td>-</td>\n",
       "      <td>0.0</td>\n",
       "      <td>0.0</td>\n",
       "      <td>0.0</td>\n",
       "      <td>0.0</td>\n",
       "    </tr>\n",
       "    <tr>\n",
       "      <th>...</th>\n",
       "      <td>...</td>\n",
       "      <td>...</td>\n",
       "      <td>...</td>\n",
       "      <td>...</td>\n",
       "      <td>...</td>\n",
       "      <td>...</td>\n",
       "      <td>...</td>\n",
       "      <td>...</td>\n",
       "    </tr>\n",
       "    <tr>\n",
       "      <th>11320</th>\n",
       "      <td>Acanthisitta_chloris</td>\n",
       "      <td>12</td>\n",
       "      <td>1916</td>\n",
       "      <td>-</td>\n",
       "      <td>0.0</td>\n",
       "      <td>0.0</td>\n",
       "      <td>0.0</td>\n",
       "      <td>0.0</td>\n",
       "    </tr>\n",
       "    <tr>\n",
       "      <th>11321</th>\n",
       "      <td>Acanthisitta_chloris</td>\n",
       "      <td>12</td>\n",
       "      <td>1917</td>\n",
       "      <td>-</td>\n",
       "      <td>0.0</td>\n",
       "      <td>0.0</td>\n",
       "      <td>0.0</td>\n",
       "      <td>0.0</td>\n",
       "    </tr>\n",
       "    <tr>\n",
       "      <th>11322</th>\n",
       "      <td>Acanthisitta_chloris</td>\n",
       "      <td>12</td>\n",
       "      <td>1918</td>\n",
       "      <td>-</td>\n",
       "      <td>0.0</td>\n",
       "      <td>0.0</td>\n",
       "      <td>0.0</td>\n",
       "      <td>0.0</td>\n",
       "    </tr>\n",
       "    <tr>\n",
       "      <th>11323</th>\n",
       "      <td>Acanthisitta_chloris</td>\n",
       "      <td>12</td>\n",
       "      <td>1919</td>\n",
       "      <td>-</td>\n",
       "      <td>0.0</td>\n",
       "      <td>0.0</td>\n",
       "      <td>0.0</td>\n",
       "      <td>0.0</td>\n",
       "    </tr>\n",
       "    <tr>\n",
       "      <th>11324</th>\n",
       "      <td>Acanthisitta_chloris</td>\n",
       "      <td>12</td>\n",
       "      <td>1920</td>\n",
       "      <td>-</td>\n",
       "      <td>0.0</td>\n",
       "      <td>0.0</td>\n",
       "      <td>0.0</td>\n",
       "      <td>0.0</td>\n",
       "    </tr>\n",
       "  </tbody>\n",
       "</table>\n",
       "<p>11325 rows × 8 columns</p>\n",
       "</div>"
      ],
      "text/plain": [
       "                          0   1     2  3    4    5    6    7\n",
       "0      Acanthisitta_chloris   1     1  -  0.0  0.0  0.0  0.0\n",
       "1      Acanthisitta_chloris   1     2  -  0.0  0.0  0.0  0.0\n",
       "2      Acanthisitta_chloris   1     3  -  0.0  0.0  0.0  0.0\n",
       "3      Acanthisitta_chloris   1     4  -  0.0  0.0  0.0  0.0\n",
       "4      Acanthisitta_chloris   1     5  -  0.0  0.0  0.0  0.0\n",
       "...                     ...  ..   ... ..  ...  ...  ...  ...\n",
       "11320  Acanthisitta_chloris  12  1916  -  0.0  0.0  0.0  0.0\n",
       "11321  Acanthisitta_chloris  12  1917  -  0.0  0.0  0.0  0.0\n",
       "11322  Acanthisitta_chloris  12  1918  -  0.0  0.0  0.0  0.0\n",
       "11323  Acanthisitta_chloris  12  1919  -  0.0  0.0  0.0  0.0\n",
       "11324  Acanthisitta_chloris  12  1920  -  0.0  0.0  0.0  0.0\n",
       "\n",
       "[11325 rows x 8 columns]"
      ]
     },
     "execution_count": 27,
     "metadata": {},
     "output_type": "execute_result"
    }
   ],
   "source": [
    "pd.DataFrame(data)"
   ]
  }
 ],
 "metadata": {
  "interpreter": {
   "hash": "faab97b70612bf02f352dc992d51cfde0491124dee3610712001439afebe5dcb"
  },
  "kernelspec": {
   "display_name": "Python 3.8.10 ('env_bio')",
   "language": "python",
   "name": "python3"
  },
  "language_info": {
   "codemirror_mode": {
    "name": "ipython",
    "version": 3
   },
   "file_extension": ".py",
   "mimetype": "text/x-python",
   "name": "python",
   "nbconvert_exporter": "python",
   "pygments_lexer": "ipython3",
   "version": "3.8.10"
  },
  "orig_nbformat": 4
 },
 "nbformat": 4,
 "nbformat_minor": 2
}
