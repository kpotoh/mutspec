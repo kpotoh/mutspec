{
 "cells": [
  {
   "cell_type": "code",
   "execution_count": 1,
   "metadata": {},
   "outputs": [],
   "source": [
    "import numpy as np\n",
    "import pandas as pd\n",
    "import matplotlib.pyplot as plt"
   ]
  },
  {
   "cell_type": "code",
   "execution_count": 2,
   "metadata": {},
   "outputs": [],
   "source": [
    "path_to_leaves = \"../data/example_birds/leaves_birds_states.tsv\"\n",
    "path_to_anc = \"../data/example_birds/anc_kg_states_birds.tsv\""
   ]
  },
  {
   "cell_type": "code",
   "execution_count": 10,
   "metadata": {},
   "outputs": [],
   "source": [
    "states_dtype=np.float16\n",
    "dtypes = {\n",
    "    \"p_A\": states_dtype, \n",
    "    \"p_C\": states_dtype, \n",
    "    \"p_G\": states_dtype, \n",
    "    \"p_T\": states_dtype,\n",
    "    \"Site\": np.int32,\n",
    "    \"Part\": np.int8,\n",
    "}\n",
    "usecols = [\"Node\", \"Part\", \"Site\", \"State\", \"p_A\", \"p_C\", \"p_G\", \"p_T\"]\n",
    "\n",
    "leaves = pd.read_csv(path_to_leaves, sep=\"\\t\", usecols=usecols, dtype=dtypes, comment='#', )\n",
    "anc = pd.read_csv(path_to_anc, sep=\"\\t\", usecols=usecols, dtype=dtypes, comment='#', )"
   ]
  },
  {
   "cell_type": "code",
   "execution_count": 11,
   "metadata": {},
   "outputs": [],
   "source": [
    "anc[anc.Node.isin([\"Node1\", \"Node2\", \"Node3\"])].to_csv(\"../data/states_sample.tsv\", index=None, sep=\"\\t\")"
   ]
  },
  {
   "cell_type": "code",
   "execution_count": 9,
   "metadata": {},
   "outputs": [
    {
     "data": {
      "text/plain": [
       "764"
      ]
     },
     "execution_count": 9,
     "metadata": {},
     "output_type": "execute_result"
    }
   ],
   "source": [
    "leaves.Node.nunique()"
   ]
  },
  {
   "cell_type": "code",
   "execution_count": 7,
   "metadata": {},
   "outputs": [
    {
     "name": "stdout",
     "output_type": "stream",
     "text": [
      "<class 'pandas.core.frame.DataFrame'>\n",
      "RangeIndex: 8652300 entries, 0 to 8652299\n",
      "Data columns (total 7 columns):\n",
      " #   Column  Dtype  \n",
      "---  ------  -----  \n",
      " 0   Node    object \n",
      " 1   Part    int8   \n",
      " 2   Site    int32  \n",
      " 3   p_A     float16\n",
      " 4   p_C     float16\n",
      " 5   p_G     float16\n",
      " 6   p_T     float16\n",
      "dtypes: float16(4), int32(1), int8(1), object(1)\n",
      "memory usage: 173.3+ MB\n"
     ]
    }
   ],
   "source": [
    "leaves.info()"
   ]
  },
  {
   "cell_type": "markdown",
   "metadata": {},
   "source": [
    "764 - 173MB<br>\n",
    "50000 - X"
   ]
  },
  {
   "cell_type": "code",
   "execution_count": 10,
   "metadata": {},
   "outputs": [
    {
     "data": {
      "text/plain": [
       "11321.989528795812"
      ]
     },
     "execution_count": 10,
     "metadata": {},
     "output_type": "execute_result"
    }
   ],
   "source": [
    "50000 * 173 / 764  # MB"
   ]
  },
  {
   "cell_type": "code",
   "execution_count": 3,
   "metadata": {},
   "outputs": [],
   "source": [
    "import sys\n",
    "sys.path.append(\"/home/mr/mutspec/mutspec\")\n",
    "\n",
    "from utils import GenomeStates"
   ]
  },
  {
   "cell_type": "code",
   "execution_count": 4,
   "metadata": {},
   "outputs": [
    {
     "name": "stderr",
     "output_type": "stream",
     "text": [
      "mode = 'db'\n",
      "Loading existing database\n",
      "mode = 'dict'\n",
      "Loading ../data/states_sample.tsv...\n"
     ]
    }
   ],
   "source": [
    "# path_to_anc = \"../data/example_birds/anc_kg_states_birds.tsv\"\n",
    "# path_to_leaves = \"../data/example_birds/leaves_birds_states.tsv\"\n",
    "path_to_states = \"../data/states_sample.tsv\"\n",
    "path_to_db = '../data/states_sample.db'\n",
    "\n",
    "gs1 = GenomeStates(path_to_states, path_to_db=path_to_db, mode=\"db\")\n",
    "gs2 = GenomeStates(path_to_states)"
   ]
  },
  {
   "cell_type": "code",
   "execution_count": 5,
   "metadata": {},
   "outputs": [],
   "source": [
    "node = \"Node2\"\n",
    "r2 = gs2.get_genome(node)\n",
    "r1 = gs1.get_genome(node)"
   ]
  },
  {
   "cell_type": "code",
   "execution_count": 9,
   "metadata": {},
   "outputs": [],
   "source": [
    "# TODO move to test file\n",
    "\n",
    "for node in [\"Node1\", \"Node2\", \"Node3\"]:\n",
    "    r2 = gs2.get_genome(node)\n",
    "    r1 = gs1.get_genome(node)\n",
    "    for gene in r1:\n",
    "        if not np.all(r1[gene]==r2[gene]):\n",
    "            print(node, gene)\n",
    "    "
   ]
  },
  {
   "cell_type": "code",
   "execution_count": 11,
   "metadata": {},
   "outputs": [
    {
     "name": "stderr",
     "output_type": "stream",
     "text": [
      "mode = 'db'\n"
     ]
    },
    {
     "data": {
      "text/plain": [
       "<utils.GenomeStates at 0x7f963d6365b0>"
      ]
     },
     "execution_count": 11,
     "metadata": {},
     "output_type": "execute_result"
    }
   ],
   "source": [
    "GenomeStates(path_to_states, mode=\"db\")"
   ]
  },
  {
   "cell_type": "code",
   "execution_count": null,
   "metadata": {},
   "outputs": [],
   "source": []
  },
  {
   "cell_type": "code",
   "execution_count": null,
   "metadata": {},
   "outputs": [],
   "source": []
  },
  {
   "cell_type": "code",
   "execution_count": null,
   "metadata": {},
   "outputs": [],
   "source": []
  }
 ],
 "metadata": {
  "interpreter": {
   "hash": "faab97b70612bf02f352dc992d51cfde0491124dee3610712001439afebe5dcb"
  },
  "kernelspec": {
   "display_name": "Python 3.8.10 ('env_bio')",
   "language": "python",
   "name": "python3"
  },
  "language_info": {
   "codemirror_mode": {
    "name": "ipython",
    "version": 3
   },
   "file_extension": ".py",
   "mimetype": "text/x-python",
   "name": "python",
   "nbconvert_exporter": "python",
   "pygments_lexer": "ipython3",
   "version": "3.8.10"
  },
  "orig_nbformat": 4
 },
 "nbformat": 4,
 "nbformat_minor": 2
}
