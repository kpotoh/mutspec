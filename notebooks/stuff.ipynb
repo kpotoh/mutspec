{
 "cells": [
  {
   "cell_type": "code",
   "execution_count": 1,
   "metadata": {},
   "outputs": [],
   "source": [
    "import os\n",
    "import sys\n",
    "from collections import defaultdict\n",
    "from functools import reduce, partial\n",
    "\n",
    "import numpy as np\n",
    "import pandas as pd\n",
    "import scipy.stats\n",
    "import matplotlib\n",
    "import matplotlib.pyplot as plt\n",
    "import seaborn as sns\n",
    "\n",
    "import ete3\n",
    "from ete3 import PhyloTree\n",
    "from Bio import SeqIO"
   ]
  },
  {
   "cell_type": "code",
   "execution_count": 2,
   "metadata": {},
   "outputs": [
    {
     "name": "stdout",
     "output_type": "stream",
     "text": [
      "4.341838297296173\n"
     ]
    },
    {
     "data": {
      "image/png": "[encoded data removed]",
      "text/plain": [
       "<Figure size 432x288 with 1 Axes>"
      ]
     },
     "metadata": {
      "needs_background": "light"
     },
     "output_type": "display_data"
    }
   ],
   "source": [
    "a = np.random.random(96)\n",
    "a = a / a.sum()\n",
    "print(scipy.stats.entropy(a))\n",
    "plt.bar(np.arange(96), a);"
   ]
  },
  {
   "cell_type": "code",
   "execution_count": 47,
   "metadata": {},
   "outputs": [
    {
     "name": "stdout",
     "output_type": "stream",
     "text": [
      "4.564348191467836\n"
     ]
    },
    {
     "data": {
      "image/png": "[encoded data removed]",
      "text/plain": [
       "<Figure size 432x288 with 1 Axes>"
      ]
     },
     "metadata": {
      "needs_background": "light"
     },
     "output_type": "display_data"
    }
   ],
   "source": [
    "b = np.ones(96)\n",
    "b = b / b.sum()\n",
    "print(scipy.stats.entropy(b))\n",
    "plt.bar(np.arange(96), b);"
   ]
  },
  {
   "cell_type": "code",
   "execution_count": 48,
   "metadata": {},
   "outputs": [
    {
     "name": "stdout",
     "output_type": "stream",
     "text": [
      "3.523707089188763\n"
     ]
    },
    {
     "data": {
      "image/png": "[encoded data removed]",
      "text/plain": [
       "<Figure size 432x288 with 1 Axes>"
      ]
     },
     "metadata": {
      "needs_background": "light"
     },
     "output_type": "display_data"
    }
   ],
   "source": [
    "c = np.random.chisquare(.5, 96)\n",
    "c = c / c.sum()\n",
    "print(scipy.stats.entropy(c))\n",
    "plt.bar(np.arange(96), c);"
   ]
  },
  {
   "cell_type": "code",
   "execution_count": 49,
   "metadata": {},
   "outputs": [
    {
     "name": "stdout",
     "output_type": "stream",
     "text": [
      "3.828900502490261\n"
     ]
    },
    {
     "data": {
      "image/png": "[encoded data removed]",
      "text/plain": [
       "<Figure size 432x288 with 1 Axes>"
      ]
     },
     "metadata": {
      "needs_background": "light"
     },
     "output_type": "display_data"
    }
   ],
   "source": [
    "d = np.random.gamma(.5, 10, 96)\n",
    "d = d / d.sum()\n",
    "print(scipy.stats.entropy(d))\n",
    "plt.bar(np.arange(96), d);"
   ]
  },
  {
   "cell_type": "code",
   "execution_count": 52,
   "metadata": {},
   "outputs": [
    {
     "name": "stdout",
     "output_type": "stream",
     "text": [
      "2.537365977619637\n"
     ]
    },
    {
     "data": {
      "image/png": "[encoded data removed]",
      "text/plain": [
       "<Figure size 432x288 with 1 Axes>"
      ]
     },
     "metadata": {
      "needs_background": "light"
     },
     "output_type": "display_data"
    }
   ],
   "source": [
    "d = np.random.gamma(.1, 100, 96)\n",
    "d = d / d.sum()\n",
    "print(scipy.stats.entropy(d))\n",
    "plt.bar(np.arange(96), d);"
   ]
  },
  {
   "cell_type": "markdown",
   "metadata": {},
   "source": [
    "## Compare uniformity metrics"
   ]
  },
  {
   "cell_type": "code",
   "execution_count": 57,
   "metadata": {},
   "outputs": [],
   "source": [
    "n = 200\n",
    "d = 96\n",
    "mutspecs = []\n",
    "for _ in range(n):\n",
    "    a = np.random.random(d)\n",
    "    a = a / a.sum()\n",
    "    mutspecs.append(a)\n",
    "    \n",
    "for _ in range(n):\n",
    "    a = np.random.chisquare(.5, d)\n",
    "    a = a / a.sum()\n",
    "    mutspecs.append(a)\n",
    "\n",
    "for _ in range(n):\n",
    "    a = np.random.gamma(.5, 10, d)\n",
    "    a = a / a.sum()\n",
    "    mutspecs.append(a)\n",
    "\n",
    "for _ in range(n):\n",
    "    a = np.random.gamma(.1, 100, d)\n",
    "    a = a / a.sum()\n",
    "    mutspecs.append(a)"
   ]
  },
  {
   "cell_type": "code",
   "execution_count": 68,
   "metadata": {},
   "outputs": [],
   "source": [
    "entr, cossim, custom = [], [], []\n",
    "for ms in mutspecs:\n",
    "    assert np.isclose(scipy.linalg.norm(ms, 1), 1), f\"{scipy.linalg.norm(ms, 1)} != 1\"\n",
    "    entr.append(scipy.stats.entropy(ms))\n",
    "    _norm = scipy.linalg.norm(ms)\n",
    "    b = np.ones(d) / d\n",
    "    _cossim = 1 - scipy.spatial.distance.cosine(ms, b)\n",
    "    assert np.isclose(_cossim, 1 / _norm / np.sqrt(d)), f\"{_cossim} != {1 / _norm / np.sqrt(d)}\"\n",
    "    cossim.append(_cossim)\n",
    "    custom.append(scipy.linalg.norm(ms - 1 / d, 1) / d)"
   ]
  },
  {
   "cell_type": "code",
   "execution_count": 69,
   "metadata": {},
   "outputs": [
    {
     "data": {
      "text/plain": [
       "(-0.9878434904278504, 0.0)"
      ]
     },
     "execution_count": 69,
     "metadata": {},
     "output_type": "execute_result"
    }
   ],
   "source": [
    "scipy.stats.pearsonr(custom, cossim)"
   ]
  },
  {
   "cell_type": "code",
   "execution_count": 70,
   "metadata": {},
   "outputs": [
    {
     "data": {
      "text/plain": [
       "array([[ 1.        ,  0.96569195, -0.97257305],\n",
       "       [ 0.96569195,  1.        , -0.98784349],\n",
       "       [-0.97257305, -0.98784349,  1.        ]])"
      ]
     },
     "execution_count": 70,
     "metadata": {},
     "output_type": "execute_result"
    }
   ],
   "source": [
    "np.corrcoef([entr, cossim, custom])"
   ]
  },
  {
   "cell_type": "code",
   "execution_count": null,
   "metadata": {},
   "outputs": [],
   "source": []
  },
  {
   "cell_type": "code",
   "execution_count": null,
   "metadata": {},
   "outputs": [],
   "source": []
  }
 ],
 "metadata": {
  "interpreter": {
   "hash": "168b15c321dd2602d32e2364c101fbe6179fdcd135a3910c88de948ab6dc8da5"
  },
  "kernelspec": {
   "display_name": "Python 3.9.5 ('env_ms': venv)",
   "language": "python",
   "name": "python3"
  },
  "language_info": {
   "codemirror_mode": {
    "name": "ipython",
    "version": 3
   },
   "file_extension": ".py",
   "mimetype": "text/x-python",
   "name": "python",
   "nbconvert_exporter": "python",
   "pygments_lexer": "ipython3",
   "version": "3.8.10"
  },
  "orig_nbformat": 4
 },
 "nbformat": 4,
 "nbformat_minor": 2
}
